{
 "cells": [
  {
   "cell_type": "markdown",
   "source": [
    "# test"
   ],
   "metadata": {
    "collapsed": false
   }
  },
  {
   "cell_type": "code",
   "execution_count": 4,
   "outputs": [
    {
     "name": "stdout",
     "output_type": "stream",
     "text": [
      "test\n"
     ]
    }
   ],
   "source": [
    "print('test')"
   ],
   "metadata": {
    "collapsed": false,
    "pycharm": {
     "name": "#%%\n"
    }
   }
  },
  {
   "cell_type": "markdown",
   "source": [
    "读取txt文件"
   ],
   "metadata": {
    "collapsed": false
   }
  },
  {
   "cell_type": "code",
   "execution_count": 14,
   "outputs": [],
   "source": [
    "files = open('//home/chenhuai/桌面/test.txt')"
   ],
   "metadata": {
    "collapsed": false,
    "pycharm": {
     "name": "#%%\n"
    }
   }
  },
  {
   "cell_type": "markdown",
   "source": [
    "循环获取txt文件内容"
   ],
   "metadata": {
    "collapsed": false
   }
  },
  {
   "cell_type": "code",
   "execution_count": 15,
   "outputs": [
    {
     "name": "stdout",
     "output_type": "stream",
     "text": [
      " test1\n",
      "\n",
      " test2\n",
      "\n",
      " test3\n",
      "\n"
     ]
    }
   ],
   "source": [
    "for each in files:\n",
    "    print(each)"
   ],
   "metadata": {
    "collapsed": false,
    "pycharm": {
     "name": "#%%\n"
    }
   }
  },
  {
   "cell_type": "markdown",
   "source": [
    "excel"
   ],
   "metadata": {
    "collapsed": false
   }
  },
  {
   "cell_type": "code",
   "execution_count": 27,
   "outputs": [
    {
     "data": {
      "text/plain": "   t1   t2   t3   t4   t5     t6\n0  c1  c22   c3   c4   c5     c6\n1  c2   c3  c44   c5   c6     c7\n2  c3   c4   c5  c66   c7     c8\n3  c4   c5   c6   c7  c88     c9\n4  c5   c6   c7   c8   c9  c1010\n5  c6   c7   c8   c9  c10    c11\n6  c7   c8   c9  c10  c11    c12\n7  c8   c9  c10  c11  c12    c13\n8  c9  c10  c11  c12  c13    c14",
      "text/html": "<div>\n<style scoped>\n    .dataframe tbody tr th:only-of-type {\n        vertical-align: middle;\n    }\n\n    .dataframe tbody tr th {\n        vertical-align: top;\n    }\n\n    .dataframe thead th {\n        text-align: right;\n    }\n</style>\n<table border=\"1\" class=\"dataframe\">\n  <thead>\n    <tr style=\"text-align: right;\">\n      <th></th>\n      <th>t1</th>\n      <th>t2</th>\n      <th>t3</th>\n      <th>t4</th>\n      <th>t5</th>\n      <th>t6</th>\n    </tr>\n  </thead>\n  <tbody>\n    <tr>\n      <th>0</th>\n      <td>c1</td>\n      <td>c22</td>\n      <td>c3</td>\n      <td>c4</td>\n      <td>c5</td>\n      <td>c6</td>\n    </tr>\n    <tr>\n      <th>1</th>\n      <td>c2</td>\n      <td>c3</td>\n      <td>c44</td>\n      <td>c5</td>\n      <td>c6</td>\n      <td>c7</td>\n    </tr>\n    <tr>\n      <th>2</th>\n      <td>c3</td>\n      <td>c4</td>\n      <td>c5</td>\n      <td>c66</td>\n      <td>c7</td>\n      <td>c8</td>\n    </tr>\n    <tr>\n      <th>3</th>\n      <td>c4</td>\n      <td>c5</td>\n      <td>c6</td>\n      <td>c7</td>\n      <td>c88</td>\n      <td>c9</td>\n    </tr>\n    <tr>\n      <th>4</th>\n      <td>c5</td>\n      <td>c6</td>\n      <td>c7</td>\n      <td>c8</td>\n      <td>c9</td>\n      <td>c1010</td>\n    </tr>\n    <tr>\n      <th>5</th>\n      <td>c6</td>\n      <td>c7</td>\n      <td>c8</td>\n      <td>c9</td>\n      <td>c10</td>\n      <td>c11</td>\n    </tr>\n    <tr>\n      <th>6</th>\n      <td>c7</td>\n      <td>c8</td>\n      <td>c9</td>\n      <td>c10</td>\n      <td>c11</td>\n      <td>c12</td>\n    </tr>\n    <tr>\n      <th>7</th>\n      <td>c8</td>\n      <td>c9</td>\n      <td>c10</td>\n      <td>c11</td>\n      <td>c12</td>\n      <td>c13</td>\n    </tr>\n    <tr>\n      <th>8</th>\n      <td>c9</td>\n      <td>c10</td>\n      <td>c11</td>\n      <td>c12</td>\n      <td>c13</td>\n      <td>c14</td>\n    </tr>\n  </tbody>\n</table>\n</div>"
     },
     "execution_count": 27,
     "metadata": {},
     "output_type": "execute_result"
    }
   ],
   "source": [
    "import pandas as pd\n",
    "testFile = pd.read_excel('//home/chenhuai/桌面/test.xlsx')\n",
    "testFile"
   ],
   "metadata": {
    "collapsed": false,
    "pycharm": {
     "name": "#%%\n"
    }
   }
  },
  {
   "cell_type": "code",
   "execution_count": 28,
   "outputs": [
    {
     "data": {
      "text/plain": "   t1  t2  t3  t4   t5   t6\n0  c1  c2  c3  c4   c5   c6\n1  c2  c3  c4  c5   c6   c7\n2  c3  c4  c5  c6   c7   c8\n3  c4  c5  c6  c7   c8   c9\n4  c5  c6  c7  c8   c9  c10\n5  c6  c7  c8  c9  c10  c11",
      "text/html": "<div>\n<style scoped>\n    .dataframe tbody tr th:only-of-type {\n        vertical-align: middle;\n    }\n\n    .dataframe tbody tr th {\n        vertical-align: top;\n    }\n\n    .dataframe thead th {\n        text-align: right;\n    }\n</style>\n<table border=\"1\" class=\"dataframe\">\n  <thead>\n    <tr style=\"text-align: right;\">\n      <th></th>\n      <th>t1</th>\n      <th>t2</th>\n      <th>t3</th>\n      <th>t4</th>\n      <th>t5</th>\n      <th>t6</th>\n    </tr>\n  </thead>\n  <tbody>\n    <tr>\n      <th>0</th>\n      <td>c1</td>\n      <td>c2</td>\n      <td>c3</td>\n      <td>c4</td>\n      <td>c5</td>\n      <td>c6</td>\n    </tr>\n    <tr>\n      <th>1</th>\n      <td>c2</td>\n      <td>c3</td>\n      <td>c4</td>\n      <td>c5</td>\n      <td>c6</td>\n      <td>c7</td>\n    </tr>\n    <tr>\n      <th>2</th>\n      <td>c3</td>\n      <td>c4</td>\n      <td>c5</td>\n      <td>c6</td>\n      <td>c7</td>\n      <td>c8</td>\n    </tr>\n    <tr>\n      <th>3</th>\n      <td>c4</td>\n      <td>c5</td>\n      <td>c6</td>\n      <td>c7</td>\n      <td>c8</td>\n      <td>c9</td>\n    </tr>\n    <tr>\n      <th>4</th>\n      <td>c5</td>\n      <td>c6</td>\n      <td>c7</td>\n      <td>c8</td>\n      <td>c9</td>\n      <td>c10</td>\n    </tr>\n    <tr>\n      <th>5</th>\n      <td>c6</td>\n      <td>c7</td>\n      <td>c8</td>\n      <td>c9</td>\n      <td>c10</td>\n      <td>c11</td>\n    </tr>\n  </tbody>\n</table>\n</div>"
     },
     "execution_count": 28,
     "metadata": {},
     "output_type": "execute_result"
    }
   ],
   "source": [
    "test1File = pd.read_excel('//home/chenhuai/桌面/test1.xlsx')\n",
    "test1File\n"
   ],
   "metadata": {
    "collapsed": false,
    "pycharm": {
     "name": "#%%\n"
    }
   }
  },
  {
   "cell_type": "code",
   "execution_count": 29,
   "outputs": [
    {
     "data": {
      "text/plain": "   t1  t2  t3  t4   t5   t6\n0  c6  c7  c8  c9  c10  c11",
      "text/html": "<div>\n<style scoped>\n    .dataframe tbody tr th:only-of-type {\n        vertical-align: middle;\n    }\n\n    .dataframe tbody tr th {\n        vertical-align: top;\n    }\n\n    .dataframe thead th {\n        text-align: right;\n    }\n</style>\n<table border=\"1\" class=\"dataframe\">\n  <thead>\n    <tr style=\"text-align: right;\">\n      <th></th>\n      <th>t1</th>\n      <th>t2</th>\n      <th>t3</th>\n      <th>t4</th>\n      <th>t5</th>\n      <th>t6</th>\n    </tr>\n  </thead>\n  <tbody>\n    <tr>\n      <th>0</th>\n      <td>c6</td>\n      <td>c7</td>\n      <td>c8</td>\n      <td>c9</td>\n      <td>c10</td>\n      <td>c11</td>\n    </tr>\n  </tbody>\n</table>\n</div>"
     },
     "execution_count": 29,
     "metadata": {},
     "output_type": "execute_result"
    }
   ],
   "source": [
    "res = pd.merge(testFile,test1File)\n",
    "res"
   ],
   "metadata": {
    "collapsed": false,
    "pycharm": {
     "name": "#%%\n"
    }
   }
  },
  {
   "cell_type": "code",
   "execution_count": 33,
   "outputs": [
    {
     "name": "stderr",
     "output_type": "stream",
     "text": [
      "Traceback (most recent call last):\n",
      "  File \"/home/chenhuai/.local/share/JetBrains/Toolbox/apps/PyCharm-P/ch-0/211.7628.24/plugins/python/helpers-pro/jupyter_debug/pydev_jupyter_utils.py\", line 69, in attach_to_debugger\n",
      "    debugger.prepare_to_run(enable_tracing_from_start=False)\n",
      "TypeError: prepare_to_run() got an unexpected keyword argument 'enable_tracing_from_start'\n",
      "Failed to connect to target debugger.\n"
     ]
    }
   ],
   "source": [
    "files = testFile.append(test1File)\n",
    "res1 = files.drop_duplicates(keep=False,inplace=True)\n",
    "res1"
   ],
   "metadata": {
    "collapsed": false,
    "pycharm": {
     "name": "#%%\n"
    }
   }
  }
 ],
 "metadata": {
  "kernelspec": {
   "display_name": "Python 3",
   "language": "python",
   "name": "python3"
  },
  "language_info": {
   "codemirror_mode": {
    "name": "ipython",
    "version": 2
   },
   "file_extension": ".py",
   "mimetype": "text/x-python",
   "name": "python",
   "nbconvert_exporter": "python",
   "pygments_lexer": "ipython2",
   "version": "2.7.6"
  }
 },
 "nbformat": 4,
 "nbformat_minor": 0
}