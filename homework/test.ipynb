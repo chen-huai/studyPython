{
 "cells": [
  {
   "cell_type": "markdown",
   "metadata": {},
   "source": [
    "# test"
   ]
  },
  {
   "cell_type": "code",
   "execution_count": 1,
   "metadata": {
    "pycharm": {
     "name": "#%%\n"
    }
   },
   "outputs": [
    {
     "name": "stdout",
     "output_type": "stream",
     "text": [
      "test\n"
     ]
    }
   ],
   "source": [
    "print('test')"
   ]
  },
  {
   "cell_type": "markdown",
   "metadata": {},
   "source": [
    "读取txt文件"
   ]
  },
  {
   "cell_type": "code",
   "execution_count": 2,
   "metadata": {
    "pycharm": {
     "name": "#%%\n"
    }
   },
   "outputs": [],
   "source": [
    "# files = open('//home/chenhuai/桌面/test.txt')"
   ]
  },
  {
   "cell_type": "markdown",
   "metadata": {},
   "source": [
    "循环获取txt文件内容"
   ]
  },
  {
   "cell_type": "code",
   "execution_count": 3,
   "metadata": {
    "pycharm": {
     "name": "#%%\n"
    }
   },
   "outputs": [],
   "source": [
    "# for each in files:\n",
    "#     print(each)"
   ]
  },
  {
   "cell_type": "markdown",
   "metadata": {},
   "source": [
    "excel"
   ]
  },
  {
   "cell_type": "code",
   "execution_count": 4,
   "metadata": {
    "pycharm": {
     "name": "#%%\n"
    }
   },
   "outputs": [
    {
     "data": {
      "text/plain": "    1   2    3    4    5    6    7    8    9   10   11\n0  c1  c2   c3   c4   c5   c6   c7   c8   c9  c10  c11\n1  c2  c3   c4   c5   c6   c7   c8   c9  c10  c11  c12\n2  c3  c4   c5   c6   c7   c8   c9  c10  c11  c12  c13\n3  c4  c5   c6   c7   c8   c9  c10  c11  c12  c13  c14\n4  c5  c6   c7   c8   c9  c10  c11  c12  c13  c14  c15\n5  c6  c7   c8   c9  c10  c11  c12  c13  c14  c15  c16\n6  c7  c8   c9  c10  c11  c12  c13  c14  c15  c16  c17\n7  c8  c9  c10  c11  c12  c13  c14  c15  c16  c17  c18",
      "text/html": "<div>\n<style scoped>\n    .dataframe tbody tr th:only-of-type {\n        vertical-align: middle;\n    }\n\n    .dataframe tbody tr th {\n        vertical-align: top;\n    }\n\n    .dataframe thead th {\n        text-align: right;\n    }\n</style>\n<table border=\"1\" class=\"dataframe\">\n  <thead>\n    <tr style=\"text-align: right;\">\n      <th></th>\n      <th>1</th>\n      <th>2</th>\n      <th>3</th>\n      <th>4</th>\n      <th>5</th>\n      <th>6</th>\n      <th>7</th>\n      <th>8</th>\n      <th>9</th>\n      <th>10</th>\n      <th>11</th>\n    </tr>\n  </thead>\n  <tbody>\n    <tr>\n      <th>0</th>\n      <td>c1</td>\n      <td>c2</td>\n      <td>c3</td>\n      <td>c4</td>\n      <td>c5</td>\n      <td>c6</td>\n      <td>c7</td>\n      <td>c8</td>\n      <td>c9</td>\n      <td>c10</td>\n      <td>c11</td>\n    </tr>\n    <tr>\n      <th>1</th>\n      <td>c2</td>\n      <td>c3</td>\n      <td>c4</td>\n      <td>c5</td>\n      <td>c6</td>\n      <td>c7</td>\n      <td>c8</td>\n      <td>c9</td>\n      <td>c10</td>\n      <td>c11</td>\n      <td>c12</td>\n    </tr>\n    <tr>\n      <th>2</th>\n      <td>c3</td>\n      <td>c4</td>\n      <td>c5</td>\n      <td>c6</td>\n      <td>c7</td>\n      <td>c8</td>\n      <td>c9</td>\n      <td>c10</td>\n      <td>c11</td>\n      <td>c12</td>\n      <td>c13</td>\n    </tr>\n    <tr>\n      <th>3</th>\n      <td>c4</td>\n      <td>c5</td>\n      <td>c6</td>\n      <td>c7</td>\n      <td>c8</td>\n      <td>c9</td>\n      <td>c10</td>\n      <td>c11</td>\n      <td>c12</td>\n      <td>c13</td>\n      <td>c14</td>\n    </tr>\n    <tr>\n      <th>4</th>\n      <td>c5</td>\n      <td>c6</td>\n      <td>c7</td>\n      <td>c8</td>\n      <td>c9</td>\n      <td>c10</td>\n      <td>c11</td>\n      <td>c12</td>\n      <td>c13</td>\n      <td>c14</td>\n      <td>c15</td>\n    </tr>\n    <tr>\n      <th>5</th>\n      <td>c6</td>\n      <td>c7</td>\n      <td>c8</td>\n      <td>c9</td>\n      <td>c10</td>\n      <td>c11</td>\n      <td>c12</td>\n      <td>c13</td>\n      <td>c14</td>\n      <td>c15</td>\n      <td>c16</td>\n    </tr>\n    <tr>\n      <th>6</th>\n      <td>c7</td>\n      <td>c8</td>\n      <td>c9</td>\n      <td>c10</td>\n      <td>c11</td>\n      <td>c12</td>\n      <td>c13</td>\n      <td>c14</td>\n      <td>c15</td>\n      <td>c16</td>\n      <td>c17</td>\n    </tr>\n    <tr>\n      <th>7</th>\n      <td>c8</td>\n      <td>c9</td>\n      <td>c10</td>\n      <td>c11</td>\n      <td>c12</td>\n      <td>c13</td>\n      <td>c14</td>\n      <td>c15</td>\n      <td>c16</td>\n      <td>c17</td>\n      <td>c18</td>\n    </tr>\n  </tbody>\n</table>\n</div>"
     },
     "execution_count": 4,
     "metadata": {},
     "output_type": "execute_result"
    }
   ],
   "source": [
    "import pandas as pd\n",
    "testFile = pd.read_excel('test.xlsx')\n",
    "testFile"
   ]
  },
  {
   "cell_type": "code",
   "execution_count": 5,
   "outputs": [
    {
     "data": {
      "text/plain": "      1    2    3    4    5    6    7    8    9   10   11\n0    c2   c3   c4  c55   c6   c7   c8   c9  c10  c11  c12\n1    c3   c4   c5   c6  c77   c8   c9  c10  c11  c12  c13\n2    c4   c5   c6   c7   c8   c9  c10  c11  c12  c13  c14\n3    c5   c6   c7   c8   c9  c10  c11  c12  c13  c14  c15\n4    c6   c7   c8   c9  c10  c11  c12  c13  c14  c15  c16\n5    c7   c8   c9  c10  c11  c12  c13  c14  c15  c16  c17\n6    c8   c9  c10  c11  c12  c13  c14  c15  c16  c17  c18\n7    c9  c10  c11  c12  c13  c14  c15  c16  c17  c18  c19\n8   c10  c11  c12  c13  c14  c15  c16  c17  c18  c19  c20\n9   c11  c12  c13  c14  c15  c16  c17  c18  c19  c20  c21\n10  c12  c13  c14  c15  c16  c17  c18  c19  c20  c21  c22\n11  c13  c14  c15  c16  c17  c18  c19  c20  c21  c22  c23\n12   c1   c2   c3   c4   c5   c6   c7   c8   c9  c10  c11",
      "text/html": "<div>\n<style scoped>\n    .dataframe tbody tr th:only-of-type {\n        vertical-align: middle;\n    }\n\n    .dataframe tbody tr th {\n        vertical-align: top;\n    }\n\n    .dataframe thead th {\n        text-align: right;\n    }\n</style>\n<table border=\"1\" class=\"dataframe\">\n  <thead>\n    <tr style=\"text-align: right;\">\n      <th></th>\n      <th>1</th>\n      <th>2</th>\n      <th>3</th>\n      <th>4</th>\n      <th>5</th>\n      <th>6</th>\n      <th>7</th>\n      <th>8</th>\n      <th>9</th>\n      <th>10</th>\n      <th>11</th>\n    </tr>\n  </thead>\n  <tbody>\n    <tr>\n      <th>0</th>\n      <td>c2</td>\n      <td>c3</td>\n      <td>c4</td>\n      <td>c55</td>\n      <td>c6</td>\n      <td>c7</td>\n      <td>c8</td>\n      <td>c9</td>\n      <td>c10</td>\n      <td>c11</td>\n      <td>c12</td>\n    </tr>\n    <tr>\n      <th>1</th>\n      <td>c3</td>\n      <td>c4</td>\n      <td>c5</td>\n      <td>c6</td>\n      <td>c77</td>\n      <td>c8</td>\n      <td>c9</td>\n      <td>c10</td>\n      <td>c11</td>\n      <td>c12</td>\n      <td>c13</td>\n    </tr>\n    <tr>\n      <th>2</th>\n      <td>c4</td>\n      <td>c5</td>\n      <td>c6</td>\n      <td>c7</td>\n      <td>c8</td>\n      <td>c9</td>\n      <td>c10</td>\n      <td>c11</td>\n      <td>c12</td>\n      <td>c13</td>\n      <td>c14</td>\n    </tr>\n    <tr>\n      <th>3</th>\n      <td>c5</td>\n      <td>c6</td>\n      <td>c7</td>\n      <td>c8</td>\n      <td>c9</td>\n      <td>c10</td>\n      <td>c11</td>\n      <td>c12</td>\n      <td>c13</td>\n      <td>c14</td>\n      <td>c15</td>\n    </tr>\n    <tr>\n      <th>4</th>\n      <td>c6</td>\n      <td>c7</td>\n      <td>c8</td>\n      <td>c9</td>\n      <td>c10</td>\n      <td>c11</td>\n      <td>c12</td>\n      <td>c13</td>\n      <td>c14</td>\n      <td>c15</td>\n      <td>c16</td>\n    </tr>\n    <tr>\n      <th>5</th>\n      <td>c7</td>\n      <td>c8</td>\n      <td>c9</td>\n      <td>c10</td>\n      <td>c11</td>\n      <td>c12</td>\n      <td>c13</td>\n      <td>c14</td>\n      <td>c15</td>\n      <td>c16</td>\n      <td>c17</td>\n    </tr>\n    <tr>\n      <th>6</th>\n      <td>c8</td>\n      <td>c9</td>\n      <td>c10</td>\n      <td>c11</td>\n      <td>c12</td>\n      <td>c13</td>\n      <td>c14</td>\n      <td>c15</td>\n      <td>c16</td>\n      <td>c17</td>\n      <td>c18</td>\n    </tr>\n    <tr>\n      <th>7</th>\n      <td>c9</td>\n      <td>c10</td>\n      <td>c11</td>\n      <td>c12</td>\n      <td>c13</td>\n      <td>c14</td>\n      <td>c15</td>\n      <td>c16</td>\n      <td>c17</td>\n      <td>c18</td>\n      <td>c19</td>\n    </tr>\n    <tr>\n      <th>8</th>\n      <td>c10</td>\n      <td>c11</td>\n      <td>c12</td>\n      <td>c13</td>\n      <td>c14</td>\n      <td>c15</td>\n      <td>c16</td>\n      <td>c17</td>\n      <td>c18</td>\n      <td>c19</td>\n      <td>c20</td>\n    </tr>\n    <tr>\n      <th>9</th>\n      <td>c11</td>\n      <td>c12</td>\n      <td>c13</td>\n      <td>c14</td>\n      <td>c15</td>\n      <td>c16</td>\n      <td>c17</td>\n      <td>c18</td>\n      <td>c19</td>\n      <td>c20</td>\n      <td>c21</td>\n    </tr>\n    <tr>\n      <th>10</th>\n      <td>c12</td>\n      <td>c13</td>\n      <td>c14</td>\n      <td>c15</td>\n      <td>c16</td>\n      <td>c17</td>\n      <td>c18</td>\n      <td>c19</td>\n      <td>c20</td>\n      <td>c21</td>\n      <td>c22</td>\n    </tr>\n    <tr>\n      <th>11</th>\n      <td>c13</td>\n      <td>c14</td>\n      <td>c15</td>\n      <td>c16</td>\n      <td>c17</td>\n      <td>c18</td>\n      <td>c19</td>\n      <td>c20</td>\n      <td>c21</td>\n      <td>c22</td>\n      <td>c23</td>\n    </tr>\n    <tr>\n      <th>12</th>\n      <td>c1</td>\n      <td>c2</td>\n      <td>c3</td>\n      <td>c4</td>\n      <td>c5</td>\n      <td>c6</td>\n      <td>c7</td>\n      <td>c8</td>\n      <td>c9</td>\n      <td>c10</td>\n      <td>c11</td>\n    </tr>\n  </tbody>\n</table>\n</div>"
     },
     "execution_count": 5,
     "metadata": {},
     "output_type": "execute_result"
    }
   ],
   "source": [
    "test1File = pd.read_excel('test1.xlsx')\n",
    "test1File"
   ],
   "metadata": {
    "collapsed": false,
    "pycharm": {
     "name": "#%%\n"
    }
   }
  },
  {
   "cell_type": "markdown",
   "source": [
    "merge：交集"
   ],
   "metadata": {
    "collapsed": false
   }
  },
  {
   "cell_type": "code",
   "execution_count": 6,
   "outputs": [
    {
     "data": {
      "text/plain": "    1   2    3    4    5    6    7    8    9   10   11\n0  c1  c2   c3   c4   c5   c6   c7   c8   c9  c10  c11\n1  c4  c5   c6   c7   c8   c9  c10  c11  c12  c13  c14\n2  c5  c6   c7   c8   c9  c10  c11  c12  c13  c14  c15\n3  c6  c7   c8   c9  c10  c11  c12  c13  c14  c15  c16\n4  c7  c8   c9  c10  c11  c12  c13  c14  c15  c16  c17\n5  c8  c9  c10  c11  c12  c13  c14  c15  c16  c17  c18",
      "text/html": "<div>\n<style scoped>\n    .dataframe tbody tr th:only-of-type {\n        vertical-align: middle;\n    }\n\n    .dataframe tbody tr th {\n        vertical-align: top;\n    }\n\n    .dataframe thead th {\n        text-align: right;\n    }\n</style>\n<table border=\"1\" class=\"dataframe\">\n  <thead>\n    <tr style=\"text-align: right;\">\n      <th></th>\n      <th>1</th>\n      <th>2</th>\n      <th>3</th>\n      <th>4</th>\n      <th>5</th>\n      <th>6</th>\n      <th>7</th>\n      <th>8</th>\n      <th>9</th>\n      <th>10</th>\n      <th>11</th>\n    </tr>\n  </thead>\n  <tbody>\n    <tr>\n      <th>0</th>\n      <td>c1</td>\n      <td>c2</td>\n      <td>c3</td>\n      <td>c4</td>\n      <td>c5</td>\n      <td>c6</td>\n      <td>c7</td>\n      <td>c8</td>\n      <td>c9</td>\n      <td>c10</td>\n      <td>c11</td>\n    </tr>\n    <tr>\n      <th>1</th>\n      <td>c4</td>\n      <td>c5</td>\n      <td>c6</td>\n      <td>c7</td>\n      <td>c8</td>\n      <td>c9</td>\n      <td>c10</td>\n      <td>c11</td>\n      <td>c12</td>\n      <td>c13</td>\n      <td>c14</td>\n    </tr>\n    <tr>\n      <th>2</th>\n      <td>c5</td>\n      <td>c6</td>\n      <td>c7</td>\n      <td>c8</td>\n      <td>c9</td>\n      <td>c10</td>\n      <td>c11</td>\n      <td>c12</td>\n      <td>c13</td>\n      <td>c14</td>\n      <td>c15</td>\n    </tr>\n    <tr>\n      <th>3</th>\n      <td>c6</td>\n      <td>c7</td>\n      <td>c8</td>\n      <td>c9</td>\n      <td>c10</td>\n      <td>c11</td>\n      <td>c12</td>\n      <td>c13</td>\n      <td>c14</td>\n      <td>c15</td>\n      <td>c16</td>\n    </tr>\n    <tr>\n      <th>4</th>\n      <td>c7</td>\n      <td>c8</td>\n      <td>c9</td>\n      <td>c10</td>\n      <td>c11</td>\n      <td>c12</td>\n      <td>c13</td>\n      <td>c14</td>\n      <td>c15</td>\n      <td>c16</td>\n      <td>c17</td>\n    </tr>\n    <tr>\n      <th>5</th>\n      <td>c8</td>\n      <td>c9</td>\n      <td>c10</td>\n      <td>c11</td>\n      <td>c12</td>\n      <td>c13</td>\n      <td>c14</td>\n      <td>c15</td>\n      <td>c16</td>\n      <td>c17</td>\n      <td>c18</td>\n    </tr>\n  </tbody>\n</table>\n</div>"
     },
     "execution_count": 6,
     "metadata": {},
     "output_type": "execute_result"
    }
   ],
   "source": [
    "res = pd.merge(testFile,test1File)\n",
    "res"
   ],
   "metadata": {
    "collapsed": false,
    "pycharm": {
     "name": "#%%\n"
    }
   }
  },
  {
   "cell_type": "markdown",
   "source": [
    "基于1,2列\n",
    "```\n",
    "pd.merge(testFile,test1File,on=[1,2],how='right')\n",
    "```"
   ],
   "metadata": {
    "collapsed": false
   }
  },
  {
   "cell_type": "code",
   "execution_count": 7,
   "outputs": [
    {
     "data": {
      "text/plain": "      1    2  3_x  4_x  5_x  6_x  7_x  8_x  9_x 10_x 11_x  3_y  4_y  5_y  6_y  \\\n0    c2   c3   c4   c5   c6   c7   c8   c9  c10  c11  c12   c4  c55   c6   c7   \n1    c3   c4   c5   c6   c7   c8   c9  c10  c11  c12  c13   c5   c6  c77   c8   \n2    c4   c5   c6   c7   c8   c9  c10  c11  c12  c13  c14   c6   c7   c8   c9   \n3    c5   c6   c7   c8   c9  c10  c11  c12  c13  c14  c15   c7   c8   c9  c10   \n4    c6   c7   c8   c9  c10  c11  c12  c13  c14  c15  c16   c8   c9  c10  c11   \n5    c7   c8   c9  c10  c11  c12  c13  c14  c15  c16  c17   c9  c10  c11  c12   \n6    c8   c9  c10  c11  c12  c13  c14  c15  c16  c17  c18  c10  c11  c12  c13   \n7    c9  c10  NaN  NaN  NaN  NaN  NaN  NaN  NaN  NaN  NaN  c11  c12  c13  c14   \n8   c10  c11  NaN  NaN  NaN  NaN  NaN  NaN  NaN  NaN  NaN  c12  c13  c14  c15   \n9   c11  c12  NaN  NaN  NaN  NaN  NaN  NaN  NaN  NaN  NaN  c13  c14  c15  c16   \n10  c12  c13  NaN  NaN  NaN  NaN  NaN  NaN  NaN  NaN  NaN  c14  c15  c16  c17   \n11  c13  c14  NaN  NaN  NaN  NaN  NaN  NaN  NaN  NaN  NaN  c15  c16  c17  c18   \n12   c1   c2   c3   c4   c5   c6   c7   c8   c9  c10  c11   c3   c4   c5   c6   \n\n    7_y  8_y  9_y 10_y 11_y  \n0    c8   c9  c10  c11  c12  \n1    c9  c10  c11  c12  c13  \n2   c10  c11  c12  c13  c14  \n3   c11  c12  c13  c14  c15  \n4   c12  c13  c14  c15  c16  \n5   c13  c14  c15  c16  c17  \n6   c14  c15  c16  c17  c18  \n7   c15  c16  c17  c18  c19  \n8   c16  c17  c18  c19  c20  \n9   c17  c18  c19  c20  c21  \n10  c18  c19  c20  c21  c22  \n11  c19  c20  c21  c22  c23  \n12   c7   c8   c9  c10  c11  ",
      "text/html": "<div>\n<style scoped>\n    .dataframe tbody tr th:only-of-type {\n        vertical-align: middle;\n    }\n\n    .dataframe tbody tr th {\n        vertical-align: top;\n    }\n\n    .dataframe thead th {\n        text-align: right;\n    }\n</style>\n<table border=\"1\" class=\"dataframe\">\n  <thead>\n    <tr style=\"text-align: right;\">\n      <th></th>\n      <th>1</th>\n      <th>2</th>\n      <th>3_x</th>\n      <th>4_x</th>\n      <th>5_x</th>\n      <th>6_x</th>\n      <th>7_x</th>\n      <th>8_x</th>\n      <th>9_x</th>\n      <th>10_x</th>\n      <th>11_x</th>\n      <th>3_y</th>\n      <th>4_y</th>\n      <th>5_y</th>\n      <th>6_y</th>\n      <th>7_y</th>\n      <th>8_y</th>\n      <th>9_y</th>\n      <th>10_y</th>\n      <th>11_y</th>\n    </tr>\n  </thead>\n  <tbody>\n    <tr>\n      <th>0</th>\n      <td>c2</td>\n      <td>c3</td>\n      <td>c4</td>\n      <td>c5</td>\n      <td>c6</td>\n      <td>c7</td>\n      <td>c8</td>\n      <td>c9</td>\n      <td>c10</td>\n      <td>c11</td>\n      <td>c12</td>\n      <td>c4</td>\n      <td>c55</td>\n      <td>c6</td>\n      <td>c7</td>\n      <td>c8</td>\n      <td>c9</td>\n      <td>c10</td>\n      <td>c11</td>\n      <td>c12</td>\n    </tr>\n    <tr>\n      <th>1</th>\n      <td>c3</td>\n      <td>c4</td>\n      <td>c5</td>\n      <td>c6</td>\n      <td>c7</td>\n      <td>c8</td>\n      <td>c9</td>\n      <td>c10</td>\n      <td>c11</td>\n      <td>c12</td>\n      <td>c13</td>\n      <td>c5</td>\n      <td>c6</td>\n      <td>c77</td>\n      <td>c8</td>\n      <td>c9</td>\n      <td>c10</td>\n      <td>c11</td>\n      <td>c12</td>\n      <td>c13</td>\n    </tr>\n    <tr>\n      <th>2</th>\n      <td>c4</td>\n      <td>c5</td>\n      <td>c6</td>\n      <td>c7</td>\n      <td>c8</td>\n      <td>c9</td>\n      <td>c10</td>\n      <td>c11</td>\n      <td>c12</td>\n      <td>c13</td>\n      <td>c14</td>\n      <td>c6</td>\n      <td>c7</td>\n      <td>c8</td>\n      <td>c9</td>\n      <td>c10</td>\n      <td>c11</td>\n      <td>c12</td>\n      <td>c13</td>\n      <td>c14</td>\n    </tr>\n    <tr>\n      <th>3</th>\n      <td>c5</td>\n      <td>c6</td>\n      <td>c7</td>\n      <td>c8</td>\n      <td>c9</td>\n      <td>c10</td>\n      <td>c11</td>\n      <td>c12</td>\n      <td>c13</td>\n      <td>c14</td>\n      <td>c15</td>\n      <td>c7</td>\n      <td>c8</td>\n      <td>c9</td>\n      <td>c10</td>\n      <td>c11</td>\n      <td>c12</td>\n      <td>c13</td>\n      <td>c14</td>\n      <td>c15</td>\n    </tr>\n    <tr>\n      <th>4</th>\n      <td>c6</td>\n      <td>c7</td>\n      <td>c8</td>\n      <td>c9</td>\n      <td>c10</td>\n      <td>c11</td>\n      <td>c12</td>\n      <td>c13</td>\n      <td>c14</td>\n      <td>c15</td>\n      <td>c16</td>\n      <td>c8</td>\n      <td>c9</td>\n      <td>c10</td>\n      <td>c11</td>\n      <td>c12</td>\n      <td>c13</td>\n      <td>c14</td>\n      <td>c15</td>\n      <td>c16</td>\n    </tr>\n    <tr>\n      <th>5</th>\n      <td>c7</td>\n      <td>c8</td>\n      <td>c9</td>\n      <td>c10</td>\n      <td>c11</td>\n      <td>c12</td>\n      <td>c13</td>\n      <td>c14</td>\n      <td>c15</td>\n      <td>c16</td>\n      <td>c17</td>\n      <td>c9</td>\n      <td>c10</td>\n      <td>c11</td>\n      <td>c12</td>\n      <td>c13</td>\n      <td>c14</td>\n      <td>c15</td>\n      <td>c16</td>\n      <td>c17</td>\n    </tr>\n    <tr>\n      <th>6</th>\n      <td>c8</td>\n      <td>c9</td>\n      <td>c10</td>\n      <td>c11</td>\n      <td>c12</td>\n      <td>c13</td>\n      <td>c14</td>\n      <td>c15</td>\n      <td>c16</td>\n      <td>c17</td>\n      <td>c18</td>\n      <td>c10</td>\n      <td>c11</td>\n      <td>c12</td>\n      <td>c13</td>\n      <td>c14</td>\n      <td>c15</td>\n      <td>c16</td>\n      <td>c17</td>\n      <td>c18</td>\n    </tr>\n    <tr>\n      <th>7</th>\n      <td>c9</td>\n      <td>c10</td>\n      <td>NaN</td>\n      <td>NaN</td>\n      <td>NaN</td>\n      <td>NaN</td>\n      <td>NaN</td>\n      <td>NaN</td>\n      <td>NaN</td>\n      <td>NaN</td>\n      <td>NaN</td>\n      <td>c11</td>\n      <td>c12</td>\n      <td>c13</td>\n      <td>c14</td>\n      <td>c15</td>\n      <td>c16</td>\n      <td>c17</td>\n      <td>c18</td>\n      <td>c19</td>\n    </tr>\n    <tr>\n      <th>8</th>\n      <td>c10</td>\n      <td>c11</td>\n      <td>NaN</td>\n      <td>NaN</td>\n      <td>NaN</td>\n      <td>NaN</td>\n      <td>NaN</td>\n      <td>NaN</td>\n      <td>NaN</td>\n      <td>NaN</td>\n      <td>NaN</td>\n      <td>c12</td>\n      <td>c13</td>\n      <td>c14</td>\n      <td>c15</td>\n      <td>c16</td>\n      <td>c17</td>\n      <td>c18</td>\n      <td>c19</td>\n      <td>c20</td>\n    </tr>\n    <tr>\n      <th>9</th>\n      <td>c11</td>\n      <td>c12</td>\n      <td>NaN</td>\n      <td>NaN</td>\n      <td>NaN</td>\n      <td>NaN</td>\n      <td>NaN</td>\n      <td>NaN</td>\n      <td>NaN</td>\n      <td>NaN</td>\n      <td>NaN</td>\n      <td>c13</td>\n      <td>c14</td>\n      <td>c15</td>\n      <td>c16</td>\n      <td>c17</td>\n      <td>c18</td>\n      <td>c19</td>\n      <td>c20</td>\n      <td>c21</td>\n    </tr>\n    <tr>\n      <th>10</th>\n      <td>c12</td>\n      <td>c13</td>\n      <td>NaN</td>\n      <td>NaN</td>\n      <td>NaN</td>\n      <td>NaN</td>\n      <td>NaN</td>\n      <td>NaN</td>\n      <td>NaN</td>\n      <td>NaN</td>\n      <td>NaN</td>\n      <td>c14</td>\n      <td>c15</td>\n      <td>c16</td>\n      <td>c17</td>\n      <td>c18</td>\n      <td>c19</td>\n      <td>c20</td>\n      <td>c21</td>\n      <td>c22</td>\n    </tr>\n    <tr>\n      <th>11</th>\n      <td>c13</td>\n      <td>c14</td>\n      <td>NaN</td>\n      <td>NaN</td>\n      <td>NaN</td>\n      <td>NaN</td>\n      <td>NaN</td>\n      <td>NaN</td>\n      <td>NaN</td>\n      <td>NaN</td>\n      <td>NaN</td>\n      <td>c15</td>\n      <td>c16</td>\n      <td>c17</td>\n      <td>c18</td>\n      <td>c19</td>\n      <td>c20</td>\n      <td>c21</td>\n      <td>c22</td>\n      <td>c23</td>\n    </tr>\n    <tr>\n      <th>12</th>\n      <td>c1</td>\n      <td>c2</td>\n      <td>c3</td>\n      <td>c4</td>\n      <td>c5</td>\n      <td>c6</td>\n      <td>c7</td>\n      <td>c8</td>\n      <td>c9</td>\n      <td>c10</td>\n      <td>c11</td>\n      <td>c3</td>\n      <td>c4</td>\n      <td>c5</td>\n      <td>c6</td>\n      <td>c7</td>\n      <td>c8</td>\n      <td>c9</td>\n      <td>c10</td>\n      <td>c11</td>\n    </tr>\n  </tbody>\n</table>\n</div>"
     },
     "execution_count": 7,
     "metadata": {},
     "output_type": "execute_result"
    }
   ],
   "source": [
    "res1 = pd.merge(testFile,test1File,on=['1','2'],how='right')\n",
    "res1"
   ],
   "metadata": {
    "collapsed": false,
    "pycharm": {
     "name": "#%%\n"
    }
   }
  },
  {
   "cell_type": "markdown",
   "source": [
    "append：有些类似列表功能"
   ],
   "metadata": {
    "collapsed": false
   }
  },
  {
   "cell_type": "code",
   "execution_count": 8,
   "metadata": {
    "pycharm": {
     "name": "#%%\n"
    }
   },
   "outputs": [
    {
     "data": {
      "text/plain": "      1    2    3    4    5    6    7    8    9   10   11\n0    c1   c2   c3   c4   c5   c6   c7   c8   c9  c10  c11\n1    c2   c3   c4   c5   c6   c7   c8   c9  c10  c11  c12\n2    c3   c4   c5   c6   c7   c8   c9  c10  c11  c12  c13\n3    c4   c5   c6   c7   c8   c9  c10  c11  c12  c13  c14\n4    c5   c6   c7   c8   c9  c10  c11  c12  c13  c14  c15\n5    c6   c7   c8   c9  c10  c11  c12  c13  c14  c15  c16\n6    c7   c8   c9  c10  c11  c12  c13  c14  c15  c16  c17\n7    c8   c9  c10  c11  c12  c13  c14  c15  c16  c17  c18\n0    c2   c3   c4  c55   c6   c7   c8   c9  c10  c11  c12\n1    c3   c4   c5   c6  c77   c8   c9  c10  c11  c12  c13\n2    c4   c5   c6   c7   c8   c9  c10  c11  c12  c13  c14\n3    c5   c6   c7   c8   c9  c10  c11  c12  c13  c14  c15\n4    c6   c7   c8   c9  c10  c11  c12  c13  c14  c15  c16\n5    c7   c8   c9  c10  c11  c12  c13  c14  c15  c16  c17\n6    c8   c9  c10  c11  c12  c13  c14  c15  c16  c17  c18\n7    c9  c10  c11  c12  c13  c14  c15  c16  c17  c18  c19\n8   c10  c11  c12  c13  c14  c15  c16  c17  c18  c19  c20\n9   c11  c12  c13  c14  c15  c16  c17  c18  c19  c20  c21\n10  c12  c13  c14  c15  c16  c17  c18  c19  c20  c21  c22\n11  c13  c14  c15  c16  c17  c18  c19  c20  c21  c22  c23\n12   c1   c2   c3   c4   c5   c6   c7   c8   c9  c10  c11",
      "text/html": "<div>\n<style scoped>\n    .dataframe tbody tr th:only-of-type {\n        vertical-align: middle;\n    }\n\n    .dataframe tbody tr th {\n        vertical-align: top;\n    }\n\n    .dataframe thead th {\n        text-align: right;\n    }\n</style>\n<table border=\"1\" class=\"dataframe\">\n  <thead>\n    <tr style=\"text-align: right;\">\n      <th></th>\n      <th>1</th>\n      <th>2</th>\n      <th>3</th>\n      <th>4</th>\n      <th>5</th>\n      <th>6</th>\n      <th>7</th>\n      <th>8</th>\n      <th>9</th>\n      <th>10</th>\n      <th>11</th>\n    </tr>\n  </thead>\n  <tbody>\n    <tr>\n      <th>0</th>\n      <td>c1</td>\n      <td>c2</td>\n      <td>c3</td>\n      <td>c4</td>\n      <td>c5</td>\n      <td>c6</td>\n      <td>c7</td>\n      <td>c8</td>\n      <td>c9</td>\n      <td>c10</td>\n      <td>c11</td>\n    </tr>\n    <tr>\n      <th>1</th>\n      <td>c2</td>\n      <td>c3</td>\n      <td>c4</td>\n      <td>c5</td>\n      <td>c6</td>\n      <td>c7</td>\n      <td>c8</td>\n      <td>c9</td>\n      <td>c10</td>\n      <td>c11</td>\n      <td>c12</td>\n    </tr>\n    <tr>\n      <th>2</th>\n      <td>c3</td>\n      <td>c4</td>\n      <td>c5</td>\n      <td>c6</td>\n      <td>c7</td>\n      <td>c8</td>\n      <td>c9</td>\n      <td>c10</td>\n      <td>c11</td>\n      <td>c12</td>\n      <td>c13</td>\n    </tr>\n    <tr>\n      <th>3</th>\n      <td>c4</td>\n      <td>c5</td>\n      <td>c6</td>\n      <td>c7</td>\n      <td>c8</td>\n      <td>c9</td>\n      <td>c10</td>\n      <td>c11</td>\n      <td>c12</td>\n      <td>c13</td>\n      <td>c14</td>\n    </tr>\n    <tr>\n      <th>4</th>\n      <td>c5</td>\n      <td>c6</td>\n      <td>c7</td>\n      <td>c8</td>\n      <td>c9</td>\n      <td>c10</td>\n      <td>c11</td>\n      <td>c12</td>\n      <td>c13</td>\n      <td>c14</td>\n      <td>c15</td>\n    </tr>\n    <tr>\n      <th>5</th>\n      <td>c6</td>\n      <td>c7</td>\n      <td>c8</td>\n      <td>c9</td>\n      <td>c10</td>\n      <td>c11</td>\n      <td>c12</td>\n      <td>c13</td>\n      <td>c14</td>\n      <td>c15</td>\n      <td>c16</td>\n    </tr>\n    <tr>\n      <th>6</th>\n      <td>c7</td>\n      <td>c8</td>\n      <td>c9</td>\n      <td>c10</td>\n      <td>c11</td>\n      <td>c12</td>\n      <td>c13</td>\n      <td>c14</td>\n      <td>c15</td>\n      <td>c16</td>\n      <td>c17</td>\n    </tr>\n    <tr>\n      <th>7</th>\n      <td>c8</td>\n      <td>c9</td>\n      <td>c10</td>\n      <td>c11</td>\n      <td>c12</td>\n      <td>c13</td>\n      <td>c14</td>\n      <td>c15</td>\n      <td>c16</td>\n      <td>c17</td>\n      <td>c18</td>\n    </tr>\n    <tr>\n      <th>0</th>\n      <td>c2</td>\n      <td>c3</td>\n      <td>c4</td>\n      <td>c55</td>\n      <td>c6</td>\n      <td>c7</td>\n      <td>c8</td>\n      <td>c9</td>\n      <td>c10</td>\n      <td>c11</td>\n      <td>c12</td>\n    </tr>\n    <tr>\n      <th>1</th>\n      <td>c3</td>\n      <td>c4</td>\n      <td>c5</td>\n      <td>c6</td>\n      <td>c77</td>\n      <td>c8</td>\n      <td>c9</td>\n      <td>c10</td>\n      <td>c11</td>\n      <td>c12</td>\n      <td>c13</td>\n    </tr>\n    <tr>\n      <th>2</th>\n      <td>c4</td>\n      <td>c5</td>\n      <td>c6</td>\n      <td>c7</td>\n      <td>c8</td>\n      <td>c9</td>\n      <td>c10</td>\n      <td>c11</td>\n      <td>c12</td>\n      <td>c13</td>\n      <td>c14</td>\n    </tr>\n    <tr>\n      <th>3</th>\n      <td>c5</td>\n      <td>c6</td>\n      <td>c7</td>\n      <td>c8</td>\n      <td>c9</td>\n      <td>c10</td>\n      <td>c11</td>\n      <td>c12</td>\n      <td>c13</td>\n      <td>c14</td>\n      <td>c15</td>\n    </tr>\n    <tr>\n      <th>4</th>\n      <td>c6</td>\n      <td>c7</td>\n      <td>c8</td>\n      <td>c9</td>\n      <td>c10</td>\n      <td>c11</td>\n      <td>c12</td>\n      <td>c13</td>\n      <td>c14</td>\n      <td>c15</td>\n      <td>c16</td>\n    </tr>\n    <tr>\n      <th>5</th>\n      <td>c7</td>\n      <td>c8</td>\n      <td>c9</td>\n      <td>c10</td>\n      <td>c11</td>\n      <td>c12</td>\n      <td>c13</td>\n      <td>c14</td>\n      <td>c15</td>\n      <td>c16</td>\n      <td>c17</td>\n    </tr>\n    <tr>\n      <th>6</th>\n      <td>c8</td>\n      <td>c9</td>\n      <td>c10</td>\n      <td>c11</td>\n      <td>c12</td>\n      <td>c13</td>\n      <td>c14</td>\n      <td>c15</td>\n      <td>c16</td>\n      <td>c17</td>\n      <td>c18</td>\n    </tr>\n    <tr>\n      <th>7</th>\n      <td>c9</td>\n      <td>c10</td>\n      <td>c11</td>\n      <td>c12</td>\n      <td>c13</td>\n      <td>c14</td>\n      <td>c15</td>\n      <td>c16</td>\n      <td>c17</td>\n      <td>c18</td>\n      <td>c19</td>\n    </tr>\n    <tr>\n      <th>8</th>\n      <td>c10</td>\n      <td>c11</td>\n      <td>c12</td>\n      <td>c13</td>\n      <td>c14</td>\n      <td>c15</td>\n      <td>c16</td>\n      <td>c17</td>\n      <td>c18</td>\n      <td>c19</td>\n      <td>c20</td>\n    </tr>\n    <tr>\n      <th>9</th>\n      <td>c11</td>\n      <td>c12</td>\n      <td>c13</td>\n      <td>c14</td>\n      <td>c15</td>\n      <td>c16</td>\n      <td>c17</td>\n      <td>c18</td>\n      <td>c19</td>\n      <td>c20</td>\n      <td>c21</td>\n    </tr>\n    <tr>\n      <th>10</th>\n      <td>c12</td>\n      <td>c13</td>\n      <td>c14</td>\n      <td>c15</td>\n      <td>c16</td>\n      <td>c17</td>\n      <td>c18</td>\n      <td>c19</td>\n      <td>c20</td>\n      <td>c21</td>\n      <td>c22</td>\n    </tr>\n    <tr>\n      <th>11</th>\n      <td>c13</td>\n      <td>c14</td>\n      <td>c15</td>\n      <td>c16</td>\n      <td>c17</td>\n      <td>c18</td>\n      <td>c19</td>\n      <td>c20</td>\n      <td>c21</td>\n      <td>c22</td>\n      <td>c23</td>\n    </tr>\n    <tr>\n      <th>12</th>\n      <td>c1</td>\n      <td>c2</td>\n      <td>c3</td>\n      <td>c4</td>\n      <td>c5</td>\n      <td>c6</td>\n      <td>c7</td>\n      <td>c8</td>\n      <td>c9</td>\n      <td>c10</td>\n      <td>c11</td>\n    </tr>\n  </tbody>\n</table>\n</div>"
     },
     "execution_count": 8,
     "metadata": {},
     "output_type": "execute_result"
    }
   ],
   "source": [
    "files = testFile.append(test1File)\n",
    "files"
   ]
  },
  {
   "cell_type": "markdown",
   "source": [
    "删除重复项，但是一旦有不同的话都会返回。\n",
    "* keep： {‘first’, ‘last’, False}, 默认值 ‘first’\n",
    "    * first： 保留第一次出现的重复项。\n",
    "    * last： 删除重复项，仅保留最后一次出现的重复项。\n",
    "    * False： 删除所有重复项。\n",
    "* inplace：布尔值，默认为False，是否删除重复项或返回副本"
   ],
   "metadata": {
    "collapsed": false
   }
  },
  {
   "cell_type": "code",
   "execution_count": 9,
   "outputs": [
    {
     "data": {
      "text/plain": "      1    2    3    4    5    6    7    8    9   10   11\n0    c1   c2   c3   c4   c5   c6   c7   c8   c9  c10  c11\n1    c2   c3   c4   c5   c6   c7   c8   c9  c10  c11  c12\n2    c3   c4   c5   c6   c7   c8   c9  c10  c11  c12  c13\n3    c4   c5   c6   c7   c8   c9  c10  c11  c12  c13  c14\n4    c5   c6   c7   c8   c9  c10  c11  c12  c13  c14  c15\n5    c6   c7   c8   c9  c10  c11  c12  c13  c14  c15  c16\n6    c7   c8   c9  c10  c11  c12  c13  c14  c15  c16  c17\n7    c8   c9  c10  c11  c12  c13  c14  c15  c16  c17  c18\n0    c2   c3   c4  c55   c6   c7   c8   c9  c10  c11  c12\n1    c3   c4   c5   c6  c77   c8   c9  c10  c11  c12  c13\n2    c4   c5   c6   c7   c8   c9  c10  c11  c12  c13  c14\n3    c5   c6   c7   c8   c9  c10  c11  c12  c13  c14  c15\n4    c6   c7   c8   c9  c10  c11  c12  c13  c14  c15  c16\n5    c7   c8   c9  c10  c11  c12  c13  c14  c15  c16  c17\n6    c8   c9  c10  c11  c12  c13  c14  c15  c16  c17  c18\n7    c9  c10  c11  c12  c13  c14  c15  c16  c17  c18  c19\n8   c10  c11  c12  c13  c14  c15  c16  c17  c18  c19  c20\n9   c11  c12  c13  c14  c15  c16  c17  c18  c19  c20  c21\n10  c12  c13  c14  c15  c16  c17  c18  c19  c20  c21  c22\n11  c13  c14  c15  c16  c17  c18  c19  c20  c21  c22  c23\n12   c1   c2   c3   c4   c5   c6   c7   c8   c9  c10  c11\n0    c2   c3   c4  c55   c6   c7   c8   c9  c10  c11  c12\n1    c3   c4   c5   c6  c77   c8   c9  c10  c11  c12  c13\n2    c4   c5   c6   c7   c8   c9  c10  c11  c12  c13  c14\n3    c5   c6   c7   c8   c9  c10  c11  c12  c13  c14  c15\n4    c6   c7   c8   c9  c10  c11  c12  c13  c14  c15  c16\n5    c7   c8   c9  c10  c11  c12  c13  c14  c15  c16  c17\n6    c8   c9  c10  c11  c12  c13  c14  c15  c16  c17  c18\n7    c9  c10  c11  c12  c13  c14  c15  c16  c17  c18  c19\n8   c10  c11  c12  c13  c14  c15  c16  c17  c18  c19  c20\n9   c11  c12  c13  c14  c15  c16  c17  c18  c19  c20  c21\n10  c12  c13  c14  c15  c16  c17  c18  c19  c20  c21  c22\n11  c13  c14  c15  c16  c17  c18  c19  c20  c21  c22  c23\n12   c1   c2   c3   c4   c5   c6   c7   c8   c9  c10  c11",
      "text/html": "<div>\n<style scoped>\n    .dataframe tbody tr th:only-of-type {\n        vertical-align: middle;\n    }\n\n    .dataframe tbody tr th {\n        vertical-align: top;\n    }\n\n    .dataframe thead th {\n        text-align: right;\n    }\n</style>\n<table border=\"1\" class=\"dataframe\">\n  <thead>\n    <tr style=\"text-align: right;\">\n      <th></th>\n      <th>1</th>\n      <th>2</th>\n      <th>3</th>\n      <th>4</th>\n      <th>5</th>\n      <th>6</th>\n      <th>7</th>\n      <th>8</th>\n      <th>9</th>\n      <th>10</th>\n      <th>11</th>\n    </tr>\n  </thead>\n  <tbody>\n    <tr>\n      <th>0</th>\n      <td>c1</td>\n      <td>c2</td>\n      <td>c3</td>\n      <td>c4</td>\n      <td>c5</td>\n      <td>c6</td>\n      <td>c7</td>\n      <td>c8</td>\n      <td>c9</td>\n      <td>c10</td>\n      <td>c11</td>\n    </tr>\n    <tr>\n      <th>1</th>\n      <td>c2</td>\n      <td>c3</td>\n      <td>c4</td>\n      <td>c5</td>\n      <td>c6</td>\n      <td>c7</td>\n      <td>c8</td>\n      <td>c9</td>\n      <td>c10</td>\n      <td>c11</td>\n      <td>c12</td>\n    </tr>\n    <tr>\n      <th>2</th>\n      <td>c3</td>\n      <td>c4</td>\n      <td>c5</td>\n      <td>c6</td>\n      <td>c7</td>\n      <td>c8</td>\n      <td>c9</td>\n      <td>c10</td>\n      <td>c11</td>\n      <td>c12</td>\n      <td>c13</td>\n    </tr>\n    <tr>\n      <th>3</th>\n      <td>c4</td>\n      <td>c5</td>\n      <td>c6</td>\n      <td>c7</td>\n      <td>c8</td>\n      <td>c9</td>\n      <td>c10</td>\n      <td>c11</td>\n      <td>c12</td>\n      <td>c13</td>\n      <td>c14</td>\n    </tr>\n    <tr>\n      <th>4</th>\n      <td>c5</td>\n      <td>c6</td>\n      <td>c7</td>\n      <td>c8</td>\n      <td>c9</td>\n      <td>c10</td>\n      <td>c11</td>\n      <td>c12</td>\n      <td>c13</td>\n      <td>c14</td>\n      <td>c15</td>\n    </tr>\n    <tr>\n      <th>5</th>\n      <td>c6</td>\n      <td>c7</td>\n      <td>c8</td>\n      <td>c9</td>\n      <td>c10</td>\n      <td>c11</td>\n      <td>c12</td>\n      <td>c13</td>\n      <td>c14</td>\n      <td>c15</td>\n      <td>c16</td>\n    </tr>\n    <tr>\n      <th>6</th>\n      <td>c7</td>\n      <td>c8</td>\n      <td>c9</td>\n      <td>c10</td>\n      <td>c11</td>\n      <td>c12</td>\n      <td>c13</td>\n      <td>c14</td>\n      <td>c15</td>\n      <td>c16</td>\n      <td>c17</td>\n    </tr>\n    <tr>\n      <th>7</th>\n      <td>c8</td>\n      <td>c9</td>\n      <td>c10</td>\n      <td>c11</td>\n      <td>c12</td>\n      <td>c13</td>\n      <td>c14</td>\n      <td>c15</td>\n      <td>c16</td>\n      <td>c17</td>\n      <td>c18</td>\n    </tr>\n    <tr>\n      <th>0</th>\n      <td>c2</td>\n      <td>c3</td>\n      <td>c4</td>\n      <td>c55</td>\n      <td>c6</td>\n      <td>c7</td>\n      <td>c8</td>\n      <td>c9</td>\n      <td>c10</td>\n      <td>c11</td>\n      <td>c12</td>\n    </tr>\n    <tr>\n      <th>1</th>\n      <td>c3</td>\n      <td>c4</td>\n      <td>c5</td>\n      <td>c6</td>\n      <td>c77</td>\n      <td>c8</td>\n      <td>c9</td>\n      <td>c10</td>\n      <td>c11</td>\n      <td>c12</td>\n      <td>c13</td>\n    </tr>\n    <tr>\n      <th>2</th>\n      <td>c4</td>\n      <td>c5</td>\n      <td>c6</td>\n      <td>c7</td>\n      <td>c8</td>\n      <td>c9</td>\n      <td>c10</td>\n      <td>c11</td>\n      <td>c12</td>\n      <td>c13</td>\n      <td>c14</td>\n    </tr>\n    <tr>\n      <th>3</th>\n      <td>c5</td>\n      <td>c6</td>\n      <td>c7</td>\n      <td>c8</td>\n      <td>c9</td>\n      <td>c10</td>\n      <td>c11</td>\n      <td>c12</td>\n      <td>c13</td>\n      <td>c14</td>\n      <td>c15</td>\n    </tr>\n    <tr>\n      <th>4</th>\n      <td>c6</td>\n      <td>c7</td>\n      <td>c8</td>\n      <td>c9</td>\n      <td>c10</td>\n      <td>c11</td>\n      <td>c12</td>\n      <td>c13</td>\n      <td>c14</td>\n      <td>c15</td>\n      <td>c16</td>\n    </tr>\n    <tr>\n      <th>5</th>\n      <td>c7</td>\n      <td>c8</td>\n      <td>c9</td>\n      <td>c10</td>\n      <td>c11</td>\n      <td>c12</td>\n      <td>c13</td>\n      <td>c14</td>\n      <td>c15</td>\n      <td>c16</td>\n      <td>c17</td>\n    </tr>\n    <tr>\n      <th>6</th>\n      <td>c8</td>\n      <td>c9</td>\n      <td>c10</td>\n      <td>c11</td>\n      <td>c12</td>\n      <td>c13</td>\n      <td>c14</td>\n      <td>c15</td>\n      <td>c16</td>\n      <td>c17</td>\n      <td>c18</td>\n    </tr>\n    <tr>\n      <th>7</th>\n      <td>c9</td>\n      <td>c10</td>\n      <td>c11</td>\n      <td>c12</td>\n      <td>c13</td>\n      <td>c14</td>\n      <td>c15</td>\n      <td>c16</td>\n      <td>c17</td>\n      <td>c18</td>\n      <td>c19</td>\n    </tr>\n    <tr>\n      <th>8</th>\n      <td>c10</td>\n      <td>c11</td>\n      <td>c12</td>\n      <td>c13</td>\n      <td>c14</td>\n      <td>c15</td>\n      <td>c16</td>\n      <td>c17</td>\n      <td>c18</td>\n      <td>c19</td>\n      <td>c20</td>\n    </tr>\n    <tr>\n      <th>9</th>\n      <td>c11</td>\n      <td>c12</td>\n      <td>c13</td>\n      <td>c14</td>\n      <td>c15</td>\n      <td>c16</td>\n      <td>c17</td>\n      <td>c18</td>\n      <td>c19</td>\n      <td>c20</td>\n      <td>c21</td>\n    </tr>\n    <tr>\n      <th>10</th>\n      <td>c12</td>\n      <td>c13</td>\n      <td>c14</td>\n      <td>c15</td>\n      <td>c16</td>\n      <td>c17</td>\n      <td>c18</td>\n      <td>c19</td>\n      <td>c20</td>\n      <td>c21</td>\n      <td>c22</td>\n    </tr>\n    <tr>\n      <th>11</th>\n      <td>c13</td>\n      <td>c14</td>\n      <td>c15</td>\n      <td>c16</td>\n      <td>c17</td>\n      <td>c18</td>\n      <td>c19</td>\n      <td>c20</td>\n      <td>c21</td>\n      <td>c22</td>\n      <td>c23</td>\n    </tr>\n    <tr>\n      <th>12</th>\n      <td>c1</td>\n      <td>c2</td>\n      <td>c3</td>\n      <td>c4</td>\n      <td>c5</td>\n      <td>c6</td>\n      <td>c7</td>\n      <td>c8</td>\n      <td>c9</td>\n      <td>c10</td>\n      <td>c11</td>\n    </tr>\n    <tr>\n      <th>0</th>\n      <td>c2</td>\n      <td>c3</td>\n      <td>c4</td>\n      <td>c55</td>\n      <td>c6</td>\n      <td>c7</td>\n      <td>c8</td>\n      <td>c9</td>\n      <td>c10</td>\n      <td>c11</td>\n      <td>c12</td>\n    </tr>\n    <tr>\n      <th>1</th>\n      <td>c3</td>\n      <td>c4</td>\n      <td>c5</td>\n      <td>c6</td>\n      <td>c77</td>\n      <td>c8</td>\n      <td>c9</td>\n      <td>c10</td>\n      <td>c11</td>\n      <td>c12</td>\n      <td>c13</td>\n    </tr>\n    <tr>\n      <th>2</th>\n      <td>c4</td>\n      <td>c5</td>\n      <td>c6</td>\n      <td>c7</td>\n      <td>c8</td>\n      <td>c9</td>\n      <td>c10</td>\n      <td>c11</td>\n      <td>c12</td>\n      <td>c13</td>\n      <td>c14</td>\n    </tr>\n    <tr>\n      <th>3</th>\n      <td>c5</td>\n      <td>c6</td>\n      <td>c7</td>\n      <td>c8</td>\n      <td>c9</td>\n      <td>c10</td>\n      <td>c11</td>\n      <td>c12</td>\n      <td>c13</td>\n      <td>c14</td>\n      <td>c15</td>\n    </tr>\n    <tr>\n      <th>4</th>\n      <td>c6</td>\n      <td>c7</td>\n      <td>c8</td>\n      <td>c9</td>\n      <td>c10</td>\n      <td>c11</td>\n      <td>c12</td>\n      <td>c13</td>\n      <td>c14</td>\n      <td>c15</td>\n      <td>c16</td>\n    </tr>\n    <tr>\n      <th>5</th>\n      <td>c7</td>\n      <td>c8</td>\n      <td>c9</td>\n      <td>c10</td>\n      <td>c11</td>\n      <td>c12</td>\n      <td>c13</td>\n      <td>c14</td>\n      <td>c15</td>\n      <td>c16</td>\n      <td>c17</td>\n    </tr>\n    <tr>\n      <th>6</th>\n      <td>c8</td>\n      <td>c9</td>\n      <td>c10</td>\n      <td>c11</td>\n      <td>c12</td>\n      <td>c13</td>\n      <td>c14</td>\n      <td>c15</td>\n      <td>c16</td>\n      <td>c17</td>\n      <td>c18</td>\n    </tr>\n    <tr>\n      <th>7</th>\n      <td>c9</td>\n      <td>c10</td>\n      <td>c11</td>\n      <td>c12</td>\n      <td>c13</td>\n      <td>c14</td>\n      <td>c15</td>\n      <td>c16</td>\n      <td>c17</td>\n      <td>c18</td>\n      <td>c19</td>\n    </tr>\n    <tr>\n      <th>8</th>\n      <td>c10</td>\n      <td>c11</td>\n      <td>c12</td>\n      <td>c13</td>\n      <td>c14</td>\n      <td>c15</td>\n      <td>c16</td>\n      <td>c17</td>\n      <td>c18</td>\n      <td>c19</td>\n      <td>c20</td>\n    </tr>\n    <tr>\n      <th>9</th>\n      <td>c11</td>\n      <td>c12</td>\n      <td>c13</td>\n      <td>c14</td>\n      <td>c15</td>\n      <td>c16</td>\n      <td>c17</td>\n      <td>c18</td>\n      <td>c19</td>\n      <td>c20</td>\n      <td>c21</td>\n    </tr>\n    <tr>\n      <th>10</th>\n      <td>c12</td>\n      <td>c13</td>\n      <td>c14</td>\n      <td>c15</td>\n      <td>c16</td>\n      <td>c17</td>\n      <td>c18</td>\n      <td>c19</td>\n      <td>c20</td>\n      <td>c21</td>\n      <td>c22</td>\n    </tr>\n    <tr>\n      <th>11</th>\n      <td>c13</td>\n      <td>c14</td>\n      <td>c15</td>\n      <td>c16</td>\n      <td>c17</td>\n      <td>c18</td>\n      <td>c19</td>\n      <td>c20</td>\n      <td>c21</td>\n      <td>c22</td>\n      <td>c23</td>\n    </tr>\n    <tr>\n      <th>12</th>\n      <td>c1</td>\n      <td>c2</td>\n      <td>c3</td>\n      <td>c4</td>\n      <td>c5</td>\n      <td>c6</td>\n      <td>c7</td>\n      <td>c8</td>\n      <td>c9</td>\n      <td>c10</td>\n      <td>c11</td>\n    </tr>\n  </tbody>\n</table>\n</div>"
     },
     "execution_count": 9,
     "metadata": {},
     "output_type": "execute_result"
    }
   ],
   "source": [
    "files = testFile.append(test1File)\n",
    "# 再来一次append确保数据为testFile独有的\n",
    "files = files.append(test1File)\n",
    "files"
   ],
   "metadata": {
    "collapsed": false,
    "pycharm": {
     "name": "#%%\n"
    }
   }
  },
  {
   "cell_type": "code",
   "execution_count": 10,
   "outputs": [
    {
     "data": {
      "text/plain": "    1   2   3   4   5   6   7    8    9   10   11\n1  c2  c3  c4  c5  c6  c7  c8   c9  c10  c11  c12\n2  c3  c4  c5  c6  c7  c8  c9  c10  c11  c12  c13",
      "text/html": "<div>\n<style scoped>\n    .dataframe tbody tr th:only-of-type {\n        vertical-align: middle;\n    }\n\n    .dataframe tbody tr th {\n        vertical-align: top;\n    }\n\n    .dataframe thead th {\n        text-align: right;\n    }\n</style>\n<table border=\"1\" class=\"dataframe\">\n  <thead>\n    <tr style=\"text-align: right;\">\n      <th></th>\n      <th>1</th>\n      <th>2</th>\n      <th>3</th>\n      <th>4</th>\n      <th>5</th>\n      <th>6</th>\n      <th>7</th>\n      <th>8</th>\n      <th>9</th>\n      <th>10</th>\n      <th>11</th>\n    </tr>\n  </thead>\n  <tbody>\n    <tr>\n      <th>1</th>\n      <td>c2</td>\n      <td>c3</td>\n      <td>c4</td>\n      <td>c5</td>\n      <td>c6</td>\n      <td>c7</td>\n      <td>c8</td>\n      <td>c9</td>\n      <td>c10</td>\n      <td>c11</td>\n      <td>c12</td>\n    </tr>\n    <tr>\n      <th>2</th>\n      <td>c3</td>\n      <td>c4</td>\n      <td>c5</td>\n      <td>c6</td>\n      <td>c7</td>\n      <td>c8</td>\n      <td>c9</td>\n      <td>c10</td>\n      <td>c11</td>\n      <td>c12</td>\n      <td>c13</td>\n    </tr>\n  </tbody>\n</table>\n</div>"
     },
     "execution_count": 10,
     "metadata": {},
     "output_type": "execute_result"
    }
   ],
   "source": [
    "files.drop_duplicates(keep=False,inplace=True)\n",
    "files"
   ],
   "metadata": {
    "collapsed": false,
    "pycharm": {
     "name": "#%%\n"
    }
   }
  },
  {
   "cell_type": "code",
   "execution_count": 11,
   "outputs": [
    {
     "data": {
      "text/plain": "    1   2   3   4   5   6   7    8    9   10   11\n1  c2  c3  c4  c5  c6  c7  c8   c9  c10  c11  c12\n2  c3  c4  c5  c6  c7  c8  c9  c10  c11  c12  c13",
      "text/html": "<div>\n<style scoped>\n    .dataframe tbody tr th:only-of-type {\n        vertical-align: middle;\n    }\n\n    .dataframe tbody tr th {\n        vertical-align: top;\n    }\n\n    .dataframe thead th {\n        text-align: right;\n    }\n</style>\n<table border=\"1\" class=\"dataframe\">\n  <thead>\n    <tr style=\"text-align: right;\">\n      <th></th>\n      <th>1</th>\n      <th>2</th>\n      <th>3</th>\n      <th>4</th>\n      <th>5</th>\n      <th>6</th>\n      <th>7</th>\n      <th>8</th>\n      <th>9</th>\n      <th>10</th>\n      <th>11</th>\n    </tr>\n  </thead>\n  <tbody>\n    <tr>\n      <th>1</th>\n      <td>c2</td>\n      <td>c3</td>\n      <td>c4</td>\n      <td>c5</td>\n      <td>c6</td>\n      <td>c7</td>\n      <td>c8</td>\n      <td>c9</td>\n      <td>c10</td>\n      <td>c11</td>\n      <td>c12</td>\n    </tr>\n    <tr>\n      <th>2</th>\n      <td>c3</td>\n      <td>c4</td>\n      <td>c5</td>\n      <td>c6</td>\n      <td>c7</td>\n      <td>c8</td>\n      <td>c9</td>\n      <td>c10</td>\n      <td>c11</td>\n      <td>c12</td>\n      <td>c13</td>\n    </tr>\n  </tbody>\n</table>\n</div>"
     },
     "execution_count": 11,
     "metadata": {},
     "output_type": "execute_result"
    }
   ],
   "source": [
    "res2 = files\n",
    "res2"
   ],
   "metadata": {
    "collapsed": false,
    "pycharm": {
     "name": "#%%\n"
    }
   }
  },
  {
   "cell_type": "markdown",
   "source": [
    "合并"
   ],
   "metadata": {
    "collapsed": false
   }
  },
  {
   "cell_type": "code",
   "execution_count": 12,
   "outputs": [
    {
     "data": {
      "text/plain": "      1    2  3_l  4_l  5_l  6_l  7_l  8_l  9_l 10_l 11_l  3_r  4_r  5_r  6_r  \\\n0    c2   c3   c4  c55   c6   c7   c8   c9  c10  c11  c12   c4   c5   c6   c7   \n1    c3   c4   c5   c6  c77   c8   c9  c10  c11  c12  c13   c5   c6   c7   c8   \n2    c4   c5   c6   c7   c8   c9  c10  c11  c12  c13  c14  NaN  NaN  NaN  NaN   \n3    c5   c6   c7   c8   c9  c10  c11  c12  c13  c14  c15  NaN  NaN  NaN  NaN   \n4    c6   c7   c8   c9  c10  c11  c12  c13  c14  c15  c16  NaN  NaN  NaN  NaN   \n5    c7   c8   c9  c10  c11  c12  c13  c14  c15  c16  c17  NaN  NaN  NaN  NaN   \n6    c8   c9  c10  c11  c12  c13  c14  c15  c16  c17  c18  NaN  NaN  NaN  NaN   \n7    c9  c10  c11  c12  c13  c14  c15  c16  c17  c18  c19  NaN  NaN  NaN  NaN   \n8   c10  c11  c12  c13  c14  c15  c16  c17  c18  c19  c20  NaN  NaN  NaN  NaN   \n9   c11  c12  c13  c14  c15  c16  c17  c18  c19  c20  c21  NaN  NaN  NaN  NaN   \n10  c12  c13  c14  c15  c16  c17  c18  c19  c20  c21  c22  NaN  NaN  NaN  NaN   \n11  c13  c14  c15  c16  c17  c18  c19  c20  c21  c22  c23  NaN  NaN  NaN  NaN   \n12   c1   c2   c3   c4   c5   c6   c7   c8   c9  c10  c11  NaN  NaN  NaN  NaN   \n\n    7_r  8_r  9_r 10_r 11_r  \n0    c8   c9  c10  c11  c12  \n1    c9  c10  c11  c12  c13  \n2   NaN  NaN  NaN  NaN  NaN  \n3   NaN  NaN  NaN  NaN  NaN  \n4   NaN  NaN  NaN  NaN  NaN  \n5   NaN  NaN  NaN  NaN  NaN  \n6   NaN  NaN  NaN  NaN  NaN  \n7   NaN  NaN  NaN  NaN  NaN  \n8   NaN  NaN  NaN  NaN  NaN  \n9   NaN  NaN  NaN  NaN  NaN  \n10  NaN  NaN  NaN  NaN  NaN  \n11  NaN  NaN  NaN  NaN  NaN  \n12  NaN  NaN  NaN  NaN  NaN  ",
      "text/html": "<div>\n<style scoped>\n    .dataframe tbody tr th:only-of-type {\n        vertical-align: middle;\n    }\n\n    .dataframe tbody tr th {\n        vertical-align: top;\n    }\n\n    .dataframe thead th {\n        text-align: right;\n    }\n</style>\n<table border=\"1\" class=\"dataframe\">\n  <thead>\n    <tr style=\"text-align: right;\">\n      <th></th>\n      <th>1</th>\n      <th>2</th>\n      <th>3_l</th>\n      <th>4_l</th>\n      <th>5_l</th>\n      <th>6_l</th>\n      <th>7_l</th>\n      <th>8_l</th>\n      <th>9_l</th>\n      <th>10_l</th>\n      <th>11_l</th>\n      <th>3_r</th>\n      <th>4_r</th>\n      <th>5_r</th>\n      <th>6_r</th>\n      <th>7_r</th>\n      <th>8_r</th>\n      <th>9_r</th>\n      <th>10_r</th>\n      <th>11_r</th>\n    </tr>\n  </thead>\n  <tbody>\n    <tr>\n      <th>0</th>\n      <td>c2</td>\n      <td>c3</td>\n      <td>c4</td>\n      <td>c55</td>\n      <td>c6</td>\n      <td>c7</td>\n      <td>c8</td>\n      <td>c9</td>\n      <td>c10</td>\n      <td>c11</td>\n      <td>c12</td>\n      <td>c4</td>\n      <td>c5</td>\n      <td>c6</td>\n      <td>c7</td>\n      <td>c8</td>\n      <td>c9</td>\n      <td>c10</td>\n      <td>c11</td>\n      <td>c12</td>\n    </tr>\n    <tr>\n      <th>1</th>\n      <td>c3</td>\n      <td>c4</td>\n      <td>c5</td>\n      <td>c6</td>\n      <td>c77</td>\n      <td>c8</td>\n      <td>c9</td>\n      <td>c10</td>\n      <td>c11</td>\n      <td>c12</td>\n      <td>c13</td>\n      <td>c5</td>\n      <td>c6</td>\n      <td>c7</td>\n      <td>c8</td>\n      <td>c9</td>\n      <td>c10</td>\n      <td>c11</td>\n      <td>c12</td>\n      <td>c13</td>\n    </tr>\n    <tr>\n      <th>2</th>\n      <td>c4</td>\n      <td>c5</td>\n      <td>c6</td>\n      <td>c7</td>\n      <td>c8</td>\n      <td>c9</td>\n      <td>c10</td>\n      <td>c11</td>\n      <td>c12</td>\n      <td>c13</td>\n      <td>c14</td>\n      <td>NaN</td>\n      <td>NaN</td>\n      <td>NaN</td>\n      <td>NaN</td>\n      <td>NaN</td>\n      <td>NaN</td>\n      <td>NaN</td>\n      <td>NaN</td>\n      <td>NaN</td>\n    </tr>\n    <tr>\n      <th>3</th>\n      <td>c5</td>\n      <td>c6</td>\n      <td>c7</td>\n      <td>c8</td>\n      <td>c9</td>\n      <td>c10</td>\n      <td>c11</td>\n      <td>c12</td>\n      <td>c13</td>\n      <td>c14</td>\n      <td>c15</td>\n      <td>NaN</td>\n      <td>NaN</td>\n      <td>NaN</td>\n      <td>NaN</td>\n      <td>NaN</td>\n      <td>NaN</td>\n      <td>NaN</td>\n      <td>NaN</td>\n      <td>NaN</td>\n    </tr>\n    <tr>\n      <th>4</th>\n      <td>c6</td>\n      <td>c7</td>\n      <td>c8</td>\n      <td>c9</td>\n      <td>c10</td>\n      <td>c11</td>\n      <td>c12</td>\n      <td>c13</td>\n      <td>c14</td>\n      <td>c15</td>\n      <td>c16</td>\n      <td>NaN</td>\n      <td>NaN</td>\n      <td>NaN</td>\n      <td>NaN</td>\n      <td>NaN</td>\n      <td>NaN</td>\n      <td>NaN</td>\n      <td>NaN</td>\n      <td>NaN</td>\n    </tr>\n    <tr>\n      <th>5</th>\n      <td>c7</td>\n      <td>c8</td>\n      <td>c9</td>\n      <td>c10</td>\n      <td>c11</td>\n      <td>c12</td>\n      <td>c13</td>\n      <td>c14</td>\n      <td>c15</td>\n      <td>c16</td>\n      <td>c17</td>\n      <td>NaN</td>\n      <td>NaN</td>\n      <td>NaN</td>\n      <td>NaN</td>\n      <td>NaN</td>\n      <td>NaN</td>\n      <td>NaN</td>\n      <td>NaN</td>\n      <td>NaN</td>\n    </tr>\n    <tr>\n      <th>6</th>\n      <td>c8</td>\n      <td>c9</td>\n      <td>c10</td>\n      <td>c11</td>\n      <td>c12</td>\n      <td>c13</td>\n      <td>c14</td>\n      <td>c15</td>\n      <td>c16</td>\n      <td>c17</td>\n      <td>c18</td>\n      <td>NaN</td>\n      <td>NaN</td>\n      <td>NaN</td>\n      <td>NaN</td>\n      <td>NaN</td>\n      <td>NaN</td>\n      <td>NaN</td>\n      <td>NaN</td>\n      <td>NaN</td>\n    </tr>\n    <tr>\n      <th>7</th>\n      <td>c9</td>\n      <td>c10</td>\n      <td>c11</td>\n      <td>c12</td>\n      <td>c13</td>\n      <td>c14</td>\n      <td>c15</td>\n      <td>c16</td>\n      <td>c17</td>\n      <td>c18</td>\n      <td>c19</td>\n      <td>NaN</td>\n      <td>NaN</td>\n      <td>NaN</td>\n      <td>NaN</td>\n      <td>NaN</td>\n      <td>NaN</td>\n      <td>NaN</td>\n      <td>NaN</td>\n      <td>NaN</td>\n    </tr>\n    <tr>\n      <th>8</th>\n      <td>c10</td>\n      <td>c11</td>\n      <td>c12</td>\n      <td>c13</td>\n      <td>c14</td>\n      <td>c15</td>\n      <td>c16</td>\n      <td>c17</td>\n      <td>c18</td>\n      <td>c19</td>\n      <td>c20</td>\n      <td>NaN</td>\n      <td>NaN</td>\n      <td>NaN</td>\n      <td>NaN</td>\n      <td>NaN</td>\n      <td>NaN</td>\n      <td>NaN</td>\n      <td>NaN</td>\n      <td>NaN</td>\n    </tr>\n    <tr>\n      <th>9</th>\n      <td>c11</td>\n      <td>c12</td>\n      <td>c13</td>\n      <td>c14</td>\n      <td>c15</td>\n      <td>c16</td>\n      <td>c17</td>\n      <td>c18</td>\n      <td>c19</td>\n      <td>c20</td>\n      <td>c21</td>\n      <td>NaN</td>\n      <td>NaN</td>\n      <td>NaN</td>\n      <td>NaN</td>\n      <td>NaN</td>\n      <td>NaN</td>\n      <td>NaN</td>\n      <td>NaN</td>\n      <td>NaN</td>\n    </tr>\n    <tr>\n      <th>10</th>\n      <td>c12</td>\n      <td>c13</td>\n      <td>c14</td>\n      <td>c15</td>\n      <td>c16</td>\n      <td>c17</td>\n      <td>c18</td>\n      <td>c19</td>\n      <td>c20</td>\n      <td>c21</td>\n      <td>c22</td>\n      <td>NaN</td>\n      <td>NaN</td>\n      <td>NaN</td>\n      <td>NaN</td>\n      <td>NaN</td>\n      <td>NaN</td>\n      <td>NaN</td>\n      <td>NaN</td>\n      <td>NaN</td>\n    </tr>\n    <tr>\n      <th>11</th>\n      <td>c13</td>\n      <td>c14</td>\n      <td>c15</td>\n      <td>c16</td>\n      <td>c17</td>\n      <td>c18</td>\n      <td>c19</td>\n      <td>c20</td>\n      <td>c21</td>\n      <td>c22</td>\n      <td>c23</td>\n      <td>NaN</td>\n      <td>NaN</td>\n      <td>NaN</td>\n      <td>NaN</td>\n      <td>NaN</td>\n      <td>NaN</td>\n      <td>NaN</td>\n      <td>NaN</td>\n      <td>NaN</td>\n    </tr>\n    <tr>\n      <th>12</th>\n      <td>c1</td>\n      <td>c2</td>\n      <td>c3</td>\n      <td>c4</td>\n      <td>c5</td>\n      <td>c6</td>\n      <td>c7</td>\n      <td>c8</td>\n      <td>c9</td>\n      <td>c10</td>\n      <td>c11</td>\n      <td>NaN</td>\n      <td>NaN</td>\n      <td>NaN</td>\n      <td>NaN</td>\n      <td>NaN</td>\n      <td>NaN</td>\n      <td>NaN</td>\n      <td>NaN</td>\n      <td>NaN</td>\n    </tr>\n  </tbody>\n</table>\n</div>"
     },
     "execution_count": 12,
     "metadata": {},
     "output_type": "execute_result"
    }
   ],
   "source": [
    "res3 = pd.merge(test1File,res2,on=['1','2'],how='outer',suffixes=['_l', '_r'])\n",
    "res3"
   ],
   "metadata": {
    "collapsed": false,
    "pycharm": {
     "name": "#%%\n"
    }
   }
  },
  {
   "cell_type": "code",
   "execution_count": 13,
   "outputs": [],
   "source": [
    "# test1File.update(res2)\n",
    "# test1File"
   ],
   "metadata": {
    "collapsed": false,
    "pycharm": {
     "name": "#%%\n"
    }
   }
  },
  {
   "cell_type": "code",
   "execution_count": 14,
   "outputs": [],
   "source": [
    "# def update_vals(row, data=res2):\n",
    "#     if row[1] == data[1]:\n",
    "#         row = data\n",
    "#     return row\n",
    "#\n",
    "# test1File.apply(update_vals, axis=1)"
   ],
   "metadata": {
    "collapsed": false,
    "pycharm": {
     "name": "#%%\n"
    }
   }
  }
 ],
 "metadata": {
  "kernelspec": {
   "display_name": "Python 3 (ipykernel)",
   "language": "python",
   "name": "python3"
  },
  "language_info": {
   "codemirror_mode": {
    "name": "ipython",
    "version": 3
   },
   "file_extension": ".py",
   "mimetype": "text/x-python",
   "name": "python",
   "nbconvert_exporter": "python",
   "pygments_lexer": "ipython3",
   "version": "3.7.3"
  }
 },
 "nbformat": 4,
 "nbformat_minor": 1
}