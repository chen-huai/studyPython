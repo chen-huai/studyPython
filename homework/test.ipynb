{
 "cells": [
  {
   "cell_type": "markdown",
   "metadata": {},
   "source": [
    "# test"
   ]
  },
  {
   "cell_type": "code",
   "execution_count": 32,
   "metadata": {
    "pycharm": {
     "name": "#%%\n"
    }
   },
   "outputs": [
    {
     "name": "stdout",
     "output_type": "stream",
     "text": [
      "test\n"
     ]
    }
   ],
   "source": [
    "print('test')"
   ]
  },
  {
   "cell_type": "markdown",
   "metadata": {},
   "source": [
    "读取txt文件"
   ]
  },
  {
   "cell_type": "code",
   "execution_count": 33,
   "metadata": {
    "pycharm": {
     "name": "#%%\n"
    }
   },
   "outputs": [],
   "source": [
    "# files = open('//home/chenhuai/桌面/test.txt')"
   ]
  },
  {
   "cell_type": "markdown",
   "metadata": {},
   "source": [
    "循环获取txt文件内容"
   ]
  },
  {
   "cell_type": "code",
   "execution_count": 34,
   "metadata": {
    "pycharm": {
     "name": "#%%\n"
    }
   },
   "outputs": [],
   "source": [
    "# for each in files:\n",
    "#     print(each)"
   ]
  },
  {
   "cell_type": "markdown",
   "metadata": {},
   "source": [
    "excel"
   ]
  },
  {
   "cell_type": "code",
   "execution_count": 35,
   "metadata": {
    "pycharm": {
     "name": "#%%\n"
    }
   },
   "outputs": [
    {
     "data": {
      "text/plain": "     t1   t2   t3   t4   t5   t6   t7   t8   t9\n0    c1   c2  c33   c4   c5   c6   c7   c8   c9\n1    c2   c3   c4   c5   c6   c7   c8   c9  c10\n2    c3   c4   c5   c6   c7   c8   c9  c10  c11\n3    c4   c5   c6   c7   c8   c9  c10  c11  c12\n4    c5   c6   c7   c8   c9  c10  c11  c12  c13\n5    c6   c7   c8   c9  c10  c11  c12  c13  c14\n6    c7   c8   c9  c10  c11  c12  c13  c14  c15\n7    c8   c9  c10  c11  c12  c13  c14  c15  c16\n8    c9  c10  c11  c12  c13  c14  c15  c16  c17\n9   c10  c11  c12  c13  c14  c15  c16  c17  c18\n10  c11  c12  c13  c14  c15  c16  c17  c18  c19\n11  c12  c13  c14  c15  c16  c17  c18  c19  c20\n12  c13  c14  c15  c16  c17  c18  c19  c20  c21\n13  c14  c15  c16  c17  c18  c19  c20  c21  c22",
      "text/html": "<div>\n<style scoped>\n    .dataframe tbody tr th:only-of-type {\n        vertical-align: middle;\n    }\n\n    .dataframe tbody tr th {\n        vertical-align: top;\n    }\n\n    .dataframe thead th {\n        text-align: right;\n    }\n</style>\n<table border=\"1\" class=\"dataframe\">\n  <thead>\n    <tr style=\"text-align: right;\">\n      <th></th>\n      <th>t1</th>\n      <th>t2</th>\n      <th>t3</th>\n      <th>t4</th>\n      <th>t5</th>\n      <th>t6</th>\n      <th>t7</th>\n      <th>t8</th>\n      <th>t9</th>\n    </tr>\n  </thead>\n  <tbody>\n    <tr>\n      <th>0</th>\n      <td>c1</td>\n      <td>c2</td>\n      <td>c33</td>\n      <td>c4</td>\n      <td>c5</td>\n      <td>c6</td>\n      <td>c7</td>\n      <td>c8</td>\n      <td>c9</td>\n    </tr>\n    <tr>\n      <th>1</th>\n      <td>c2</td>\n      <td>c3</td>\n      <td>c4</td>\n      <td>c5</td>\n      <td>c6</td>\n      <td>c7</td>\n      <td>c8</td>\n      <td>c9</td>\n      <td>c10</td>\n    </tr>\n    <tr>\n      <th>2</th>\n      <td>c3</td>\n      <td>c4</td>\n      <td>c5</td>\n      <td>c6</td>\n      <td>c7</td>\n      <td>c8</td>\n      <td>c9</td>\n      <td>c10</td>\n      <td>c11</td>\n    </tr>\n    <tr>\n      <th>3</th>\n      <td>c4</td>\n      <td>c5</td>\n      <td>c6</td>\n      <td>c7</td>\n      <td>c8</td>\n      <td>c9</td>\n      <td>c10</td>\n      <td>c11</td>\n      <td>c12</td>\n    </tr>\n    <tr>\n      <th>4</th>\n      <td>c5</td>\n      <td>c6</td>\n      <td>c7</td>\n      <td>c8</td>\n      <td>c9</td>\n      <td>c10</td>\n      <td>c11</td>\n      <td>c12</td>\n      <td>c13</td>\n    </tr>\n    <tr>\n      <th>5</th>\n      <td>c6</td>\n      <td>c7</td>\n      <td>c8</td>\n      <td>c9</td>\n      <td>c10</td>\n      <td>c11</td>\n      <td>c12</td>\n      <td>c13</td>\n      <td>c14</td>\n    </tr>\n    <tr>\n      <th>6</th>\n      <td>c7</td>\n      <td>c8</td>\n      <td>c9</td>\n      <td>c10</td>\n      <td>c11</td>\n      <td>c12</td>\n      <td>c13</td>\n      <td>c14</td>\n      <td>c15</td>\n    </tr>\n    <tr>\n      <th>7</th>\n      <td>c8</td>\n      <td>c9</td>\n      <td>c10</td>\n      <td>c11</td>\n      <td>c12</td>\n      <td>c13</td>\n      <td>c14</td>\n      <td>c15</td>\n      <td>c16</td>\n    </tr>\n    <tr>\n      <th>8</th>\n      <td>c9</td>\n      <td>c10</td>\n      <td>c11</td>\n      <td>c12</td>\n      <td>c13</td>\n      <td>c14</td>\n      <td>c15</td>\n      <td>c16</td>\n      <td>c17</td>\n    </tr>\n    <tr>\n      <th>9</th>\n      <td>c10</td>\n      <td>c11</td>\n      <td>c12</td>\n      <td>c13</td>\n      <td>c14</td>\n      <td>c15</td>\n      <td>c16</td>\n      <td>c17</td>\n      <td>c18</td>\n    </tr>\n    <tr>\n      <th>10</th>\n      <td>c11</td>\n      <td>c12</td>\n      <td>c13</td>\n      <td>c14</td>\n      <td>c15</td>\n      <td>c16</td>\n      <td>c17</td>\n      <td>c18</td>\n      <td>c19</td>\n    </tr>\n    <tr>\n      <th>11</th>\n      <td>c12</td>\n      <td>c13</td>\n      <td>c14</td>\n      <td>c15</td>\n      <td>c16</td>\n      <td>c17</td>\n      <td>c18</td>\n      <td>c19</td>\n      <td>c20</td>\n    </tr>\n    <tr>\n      <th>12</th>\n      <td>c13</td>\n      <td>c14</td>\n      <td>c15</td>\n      <td>c16</td>\n      <td>c17</td>\n      <td>c18</td>\n      <td>c19</td>\n      <td>c20</td>\n      <td>c21</td>\n    </tr>\n    <tr>\n      <th>13</th>\n      <td>c14</td>\n      <td>c15</td>\n      <td>c16</td>\n      <td>c17</td>\n      <td>c18</td>\n      <td>c19</td>\n      <td>c20</td>\n      <td>c21</td>\n      <td>c22</td>\n    </tr>\n  </tbody>\n</table>\n</div>"
     },
     "execution_count": 35,
     "metadata": {},
     "output_type": "execute_result"
    }
   ],
   "source": [
    "import pandas as pd\n",
    "testFile = pd.read_excel('C:\\\\Users\\\\chenhuai\\\\Desktop\\\\临时文件\\\\test.xlsx')\n",
    "testFile"
   ]
  },
  {
   "cell_type": "code",
   "execution_count": 36,
   "outputs": [
    {
     "data": {
      "text/plain": "    t1   t2   t3   t4   t5   t6   t7   t8   t9\n0   c1   c2   c3   c4   c5   c6   c7   c8   c9\n1   c2   c3   c4   c5   c6   c7   c8   c9  c10\n2   c3   c4   c5   c6   c7   c8   c9  c10  c11\n3   c4   c5   c6   c7   c8   c9  c10  c11  c12\n4   c5   c6   c7   c8   c9  c10  c11  c12  c13\n5   c6   c7   c8   c9  c10  c11  c12  c13  c14\n6   c7   c8   c9  c10  c11  c12  c13  c14  c15\n7   c8   c9  c10  c11  c12  c13  c14  c15  c16\n8   c9  c10  c11  c12  c13  c14  c15  c16  c17\n9  c10  c11  c12  c13  c14  c15  c16  c17  c18",
      "text/html": "<div>\n<style scoped>\n    .dataframe tbody tr th:only-of-type {\n        vertical-align: middle;\n    }\n\n    .dataframe tbody tr th {\n        vertical-align: top;\n    }\n\n    .dataframe thead th {\n        text-align: right;\n    }\n</style>\n<table border=\"1\" class=\"dataframe\">\n  <thead>\n    <tr style=\"text-align: right;\">\n      <th></th>\n      <th>t1</th>\n      <th>t2</th>\n      <th>t3</th>\n      <th>t4</th>\n      <th>t5</th>\n      <th>t6</th>\n      <th>t7</th>\n      <th>t8</th>\n      <th>t9</th>\n    </tr>\n  </thead>\n  <tbody>\n    <tr>\n      <th>0</th>\n      <td>c1</td>\n      <td>c2</td>\n      <td>c3</td>\n      <td>c4</td>\n      <td>c5</td>\n      <td>c6</td>\n      <td>c7</td>\n      <td>c8</td>\n      <td>c9</td>\n    </tr>\n    <tr>\n      <th>1</th>\n      <td>c2</td>\n      <td>c3</td>\n      <td>c4</td>\n      <td>c5</td>\n      <td>c6</td>\n      <td>c7</td>\n      <td>c8</td>\n      <td>c9</td>\n      <td>c10</td>\n    </tr>\n    <tr>\n      <th>2</th>\n      <td>c3</td>\n      <td>c4</td>\n      <td>c5</td>\n      <td>c6</td>\n      <td>c7</td>\n      <td>c8</td>\n      <td>c9</td>\n      <td>c10</td>\n      <td>c11</td>\n    </tr>\n    <tr>\n      <th>3</th>\n      <td>c4</td>\n      <td>c5</td>\n      <td>c6</td>\n      <td>c7</td>\n      <td>c8</td>\n      <td>c9</td>\n      <td>c10</td>\n      <td>c11</td>\n      <td>c12</td>\n    </tr>\n    <tr>\n      <th>4</th>\n      <td>c5</td>\n      <td>c6</td>\n      <td>c7</td>\n      <td>c8</td>\n      <td>c9</td>\n      <td>c10</td>\n      <td>c11</td>\n      <td>c12</td>\n      <td>c13</td>\n    </tr>\n    <tr>\n      <th>5</th>\n      <td>c6</td>\n      <td>c7</td>\n      <td>c8</td>\n      <td>c9</td>\n      <td>c10</td>\n      <td>c11</td>\n      <td>c12</td>\n      <td>c13</td>\n      <td>c14</td>\n    </tr>\n    <tr>\n      <th>6</th>\n      <td>c7</td>\n      <td>c8</td>\n      <td>c9</td>\n      <td>c10</td>\n      <td>c11</td>\n      <td>c12</td>\n      <td>c13</td>\n      <td>c14</td>\n      <td>c15</td>\n    </tr>\n    <tr>\n      <th>7</th>\n      <td>c8</td>\n      <td>c9</td>\n      <td>c10</td>\n      <td>c11</td>\n      <td>c12</td>\n      <td>c13</td>\n      <td>c14</td>\n      <td>c15</td>\n      <td>c16</td>\n    </tr>\n    <tr>\n      <th>8</th>\n      <td>c9</td>\n      <td>c10</td>\n      <td>c11</td>\n      <td>c12</td>\n      <td>c13</td>\n      <td>c14</td>\n      <td>c15</td>\n      <td>c16</td>\n      <td>c17</td>\n    </tr>\n    <tr>\n      <th>9</th>\n      <td>c10</td>\n      <td>c11</td>\n      <td>c12</td>\n      <td>c13</td>\n      <td>c14</td>\n      <td>c15</td>\n      <td>c16</td>\n      <td>c17</td>\n      <td>c18</td>\n    </tr>\n  </tbody>\n</table>\n</div>"
     },
     "execution_count": 36,
     "metadata": {},
     "output_type": "execute_result"
    }
   ],
   "source": [
    "test1File = pd.read_excel('C:\\\\Users\\\\chenhuai\\\\Desktop\\\\临时文件\\\\test1.xlsx')\n",
    "test1File\n"
   ],
   "metadata": {
    "collapsed": false,
    "pycharm": {
     "name": "#%%\n"
    }
   }
  },
  {
   "cell_type": "code",
   "execution_count": 37,
   "outputs": [
    {
     "data": {
      "text/plain": "    t1   t2   t3   t4   t5   t6   t7   t8   t9\n0   c2   c3   c4   c5   c6   c7   c8   c9  c10\n1   c3   c4   c5   c6   c7   c8   c9  c10  c11\n2   c4   c5   c6   c7   c8   c9  c10  c11  c12\n3   c5   c6   c7   c8   c9  c10  c11  c12  c13\n4   c6   c7   c8   c9  c10  c11  c12  c13  c14\n5   c7   c8   c9  c10  c11  c12  c13  c14  c15\n6   c8   c9  c10  c11  c12  c13  c14  c15  c16\n7   c9  c10  c11  c12  c13  c14  c15  c16  c17\n8  c10  c11  c12  c13  c14  c15  c16  c17  c18",
      "text/html": "<div>\n<style scoped>\n    .dataframe tbody tr th:only-of-type {\n        vertical-align: middle;\n    }\n\n    .dataframe tbody tr th {\n        vertical-align: top;\n    }\n\n    .dataframe thead th {\n        text-align: right;\n    }\n</style>\n<table border=\"1\" class=\"dataframe\">\n  <thead>\n    <tr style=\"text-align: right;\">\n      <th></th>\n      <th>t1</th>\n      <th>t2</th>\n      <th>t3</th>\n      <th>t4</th>\n      <th>t5</th>\n      <th>t6</th>\n      <th>t7</th>\n      <th>t8</th>\n      <th>t9</th>\n    </tr>\n  </thead>\n  <tbody>\n    <tr>\n      <th>0</th>\n      <td>c2</td>\n      <td>c3</td>\n      <td>c4</td>\n      <td>c5</td>\n      <td>c6</td>\n      <td>c7</td>\n      <td>c8</td>\n      <td>c9</td>\n      <td>c10</td>\n    </tr>\n    <tr>\n      <th>1</th>\n      <td>c3</td>\n      <td>c4</td>\n      <td>c5</td>\n      <td>c6</td>\n      <td>c7</td>\n      <td>c8</td>\n      <td>c9</td>\n      <td>c10</td>\n      <td>c11</td>\n    </tr>\n    <tr>\n      <th>2</th>\n      <td>c4</td>\n      <td>c5</td>\n      <td>c6</td>\n      <td>c7</td>\n      <td>c8</td>\n      <td>c9</td>\n      <td>c10</td>\n      <td>c11</td>\n      <td>c12</td>\n    </tr>\n    <tr>\n      <th>3</th>\n      <td>c5</td>\n      <td>c6</td>\n      <td>c7</td>\n      <td>c8</td>\n      <td>c9</td>\n      <td>c10</td>\n      <td>c11</td>\n      <td>c12</td>\n      <td>c13</td>\n    </tr>\n    <tr>\n      <th>4</th>\n      <td>c6</td>\n      <td>c7</td>\n      <td>c8</td>\n      <td>c9</td>\n      <td>c10</td>\n      <td>c11</td>\n      <td>c12</td>\n      <td>c13</td>\n      <td>c14</td>\n    </tr>\n    <tr>\n      <th>5</th>\n      <td>c7</td>\n      <td>c8</td>\n      <td>c9</td>\n      <td>c10</td>\n      <td>c11</td>\n      <td>c12</td>\n      <td>c13</td>\n      <td>c14</td>\n      <td>c15</td>\n    </tr>\n    <tr>\n      <th>6</th>\n      <td>c8</td>\n      <td>c9</td>\n      <td>c10</td>\n      <td>c11</td>\n      <td>c12</td>\n      <td>c13</td>\n      <td>c14</td>\n      <td>c15</td>\n      <td>c16</td>\n    </tr>\n    <tr>\n      <th>7</th>\n      <td>c9</td>\n      <td>c10</td>\n      <td>c11</td>\n      <td>c12</td>\n      <td>c13</td>\n      <td>c14</td>\n      <td>c15</td>\n      <td>c16</td>\n      <td>c17</td>\n    </tr>\n    <tr>\n      <th>8</th>\n      <td>c10</td>\n      <td>c11</td>\n      <td>c12</td>\n      <td>c13</td>\n      <td>c14</td>\n      <td>c15</td>\n      <td>c16</td>\n      <td>c17</td>\n      <td>c18</td>\n    </tr>\n  </tbody>\n</table>\n</div>"
     },
     "execution_count": 37,
     "metadata": {},
     "output_type": "execute_result"
    }
   ],
   "source": [
    "res = pd.merge(testFile,test1File)\n",
    "res"
   ],
   "metadata": {
    "collapsed": false,
    "pycharm": {
     "name": "#%%\n"
    }
   }
  },
  {
   "cell_type": "code",
   "execution_count": 38,
   "metadata": {
    "pycharm": {
     "name": "#%%\n"
    }
   },
   "outputs": [
    {
     "data": {
      "text/plain": "     t1   t2   t3   t4   t5   t6   t7   t8   t9\n0    c1   c2  c33   c4   c5   c6   c7   c8   c9\n1    c2   c3   c4   c5   c6   c7   c8   c9  c10\n2    c3   c4   c5   c6   c7   c8   c9  c10  c11\n3    c4   c5   c6   c7   c8   c9  c10  c11  c12\n4    c5   c6   c7   c8   c9  c10  c11  c12  c13\n5    c6   c7   c8   c9  c10  c11  c12  c13  c14\n6    c7   c8   c9  c10  c11  c12  c13  c14  c15\n7    c8   c9  c10  c11  c12  c13  c14  c15  c16\n8    c9  c10  c11  c12  c13  c14  c15  c16  c17\n9   c10  c11  c12  c13  c14  c15  c16  c17  c18\n10  c11  c12  c13  c14  c15  c16  c17  c18  c19\n11  c12  c13  c14  c15  c16  c17  c18  c19  c20\n12  c13  c14  c15  c16  c17  c18  c19  c20  c21\n13  c14  c15  c16  c17  c18  c19  c20  c21  c22\n0    c1   c2   c3   c4   c5   c6   c7   c8   c9\n1    c2   c3   c4   c5   c6   c7   c8   c9  c10\n2    c3   c4   c5   c6   c7   c8   c9  c10  c11\n3    c4   c5   c6   c7   c8   c9  c10  c11  c12\n4    c5   c6   c7   c8   c9  c10  c11  c12  c13\n5    c6   c7   c8   c9  c10  c11  c12  c13  c14\n6    c7   c8   c9  c10  c11  c12  c13  c14  c15\n7    c8   c9  c10  c11  c12  c13  c14  c15  c16\n8    c9  c10  c11  c12  c13  c14  c15  c16  c17\n9   c10  c11  c12  c13  c14  c15  c16  c17  c18",
      "text/html": "<div>\n<style scoped>\n    .dataframe tbody tr th:only-of-type {\n        vertical-align: middle;\n    }\n\n    .dataframe tbody tr th {\n        vertical-align: top;\n    }\n\n    .dataframe thead th {\n        text-align: right;\n    }\n</style>\n<table border=\"1\" class=\"dataframe\">\n  <thead>\n    <tr style=\"text-align: right;\">\n      <th></th>\n      <th>t1</th>\n      <th>t2</th>\n      <th>t3</th>\n      <th>t4</th>\n      <th>t5</th>\n      <th>t6</th>\n      <th>t7</th>\n      <th>t8</th>\n      <th>t9</th>\n    </tr>\n  </thead>\n  <tbody>\n    <tr>\n      <th>0</th>\n      <td>c1</td>\n      <td>c2</td>\n      <td>c33</td>\n      <td>c4</td>\n      <td>c5</td>\n      <td>c6</td>\n      <td>c7</td>\n      <td>c8</td>\n      <td>c9</td>\n    </tr>\n    <tr>\n      <th>1</th>\n      <td>c2</td>\n      <td>c3</td>\n      <td>c4</td>\n      <td>c5</td>\n      <td>c6</td>\n      <td>c7</td>\n      <td>c8</td>\n      <td>c9</td>\n      <td>c10</td>\n    </tr>\n    <tr>\n      <th>2</th>\n      <td>c3</td>\n      <td>c4</td>\n      <td>c5</td>\n      <td>c6</td>\n      <td>c7</td>\n      <td>c8</td>\n      <td>c9</td>\n      <td>c10</td>\n      <td>c11</td>\n    </tr>\n    <tr>\n      <th>3</th>\n      <td>c4</td>\n      <td>c5</td>\n      <td>c6</td>\n      <td>c7</td>\n      <td>c8</td>\n      <td>c9</td>\n      <td>c10</td>\n      <td>c11</td>\n      <td>c12</td>\n    </tr>\n    <tr>\n      <th>4</th>\n      <td>c5</td>\n      <td>c6</td>\n      <td>c7</td>\n      <td>c8</td>\n      <td>c9</td>\n      <td>c10</td>\n      <td>c11</td>\n      <td>c12</td>\n      <td>c13</td>\n    </tr>\n    <tr>\n      <th>5</th>\n      <td>c6</td>\n      <td>c7</td>\n      <td>c8</td>\n      <td>c9</td>\n      <td>c10</td>\n      <td>c11</td>\n      <td>c12</td>\n      <td>c13</td>\n      <td>c14</td>\n    </tr>\n    <tr>\n      <th>6</th>\n      <td>c7</td>\n      <td>c8</td>\n      <td>c9</td>\n      <td>c10</td>\n      <td>c11</td>\n      <td>c12</td>\n      <td>c13</td>\n      <td>c14</td>\n      <td>c15</td>\n    </tr>\n    <tr>\n      <th>7</th>\n      <td>c8</td>\n      <td>c9</td>\n      <td>c10</td>\n      <td>c11</td>\n      <td>c12</td>\n      <td>c13</td>\n      <td>c14</td>\n      <td>c15</td>\n      <td>c16</td>\n    </tr>\n    <tr>\n      <th>8</th>\n      <td>c9</td>\n      <td>c10</td>\n      <td>c11</td>\n      <td>c12</td>\n      <td>c13</td>\n      <td>c14</td>\n      <td>c15</td>\n      <td>c16</td>\n      <td>c17</td>\n    </tr>\n    <tr>\n      <th>9</th>\n      <td>c10</td>\n      <td>c11</td>\n      <td>c12</td>\n      <td>c13</td>\n      <td>c14</td>\n      <td>c15</td>\n      <td>c16</td>\n      <td>c17</td>\n      <td>c18</td>\n    </tr>\n    <tr>\n      <th>10</th>\n      <td>c11</td>\n      <td>c12</td>\n      <td>c13</td>\n      <td>c14</td>\n      <td>c15</td>\n      <td>c16</td>\n      <td>c17</td>\n      <td>c18</td>\n      <td>c19</td>\n    </tr>\n    <tr>\n      <th>11</th>\n      <td>c12</td>\n      <td>c13</td>\n      <td>c14</td>\n      <td>c15</td>\n      <td>c16</td>\n      <td>c17</td>\n      <td>c18</td>\n      <td>c19</td>\n      <td>c20</td>\n    </tr>\n    <tr>\n      <th>12</th>\n      <td>c13</td>\n      <td>c14</td>\n      <td>c15</td>\n      <td>c16</td>\n      <td>c17</td>\n      <td>c18</td>\n      <td>c19</td>\n      <td>c20</td>\n      <td>c21</td>\n    </tr>\n    <tr>\n      <th>13</th>\n      <td>c14</td>\n      <td>c15</td>\n      <td>c16</td>\n      <td>c17</td>\n      <td>c18</td>\n      <td>c19</td>\n      <td>c20</td>\n      <td>c21</td>\n      <td>c22</td>\n    </tr>\n    <tr>\n      <th>0</th>\n      <td>c1</td>\n      <td>c2</td>\n      <td>c3</td>\n      <td>c4</td>\n      <td>c5</td>\n      <td>c6</td>\n      <td>c7</td>\n      <td>c8</td>\n      <td>c9</td>\n    </tr>\n    <tr>\n      <th>1</th>\n      <td>c2</td>\n      <td>c3</td>\n      <td>c4</td>\n      <td>c5</td>\n      <td>c6</td>\n      <td>c7</td>\n      <td>c8</td>\n      <td>c9</td>\n      <td>c10</td>\n    </tr>\n    <tr>\n      <th>2</th>\n      <td>c3</td>\n      <td>c4</td>\n      <td>c5</td>\n      <td>c6</td>\n      <td>c7</td>\n      <td>c8</td>\n      <td>c9</td>\n      <td>c10</td>\n      <td>c11</td>\n    </tr>\n    <tr>\n      <th>3</th>\n      <td>c4</td>\n      <td>c5</td>\n      <td>c6</td>\n      <td>c7</td>\n      <td>c8</td>\n      <td>c9</td>\n      <td>c10</td>\n      <td>c11</td>\n      <td>c12</td>\n    </tr>\n    <tr>\n      <th>4</th>\n      <td>c5</td>\n      <td>c6</td>\n      <td>c7</td>\n      <td>c8</td>\n      <td>c9</td>\n      <td>c10</td>\n      <td>c11</td>\n      <td>c12</td>\n      <td>c13</td>\n    </tr>\n    <tr>\n      <th>5</th>\n      <td>c6</td>\n      <td>c7</td>\n      <td>c8</td>\n      <td>c9</td>\n      <td>c10</td>\n      <td>c11</td>\n      <td>c12</td>\n      <td>c13</td>\n      <td>c14</td>\n    </tr>\n    <tr>\n      <th>6</th>\n      <td>c7</td>\n      <td>c8</td>\n      <td>c9</td>\n      <td>c10</td>\n      <td>c11</td>\n      <td>c12</td>\n      <td>c13</td>\n      <td>c14</td>\n      <td>c15</td>\n    </tr>\n    <tr>\n      <th>7</th>\n      <td>c8</td>\n      <td>c9</td>\n      <td>c10</td>\n      <td>c11</td>\n      <td>c12</td>\n      <td>c13</td>\n      <td>c14</td>\n      <td>c15</td>\n      <td>c16</td>\n    </tr>\n    <tr>\n      <th>8</th>\n      <td>c9</td>\n      <td>c10</td>\n      <td>c11</td>\n      <td>c12</td>\n      <td>c13</td>\n      <td>c14</td>\n      <td>c15</td>\n      <td>c16</td>\n      <td>c17</td>\n    </tr>\n    <tr>\n      <th>9</th>\n      <td>c10</td>\n      <td>c11</td>\n      <td>c12</td>\n      <td>c13</td>\n      <td>c14</td>\n      <td>c15</td>\n      <td>c16</td>\n      <td>c17</td>\n      <td>c18</td>\n    </tr>\n  </tbody>\n</table>\n</div>"
     },
     "execution_count": 38,
     "metadata": {},
     "output_type": "execute_result"
    }
   ],
   "source": [
    "files = testFile.append(test1File)\n",
    "files"
   ]
  },
  {
   "cell_type": "code",
   "execution_count": 39,
   "outputs": [
    {
     "data": {
      "text/plain": "     t1   t2   t3   t4   t5   t6   t7   t8   t9\n0    c1   c2  c33   c4   c5   c6   c7   c8   c9\n10  c11  c12  c13  c14  c15  c16  c17  c18  c19\n11  c12  c13  c14  c15  c16  c17  c18  c19  c20\n12  c13  c14  c15  c16  c17  c18  c19  c20  c21\n13  c14  c15  c16  c17  c18  c19  c20  c21  c22\n0    c1   c2   c3   c4   c5   c6   c7   c8   c9",
      "text/html": "<div>\n<style scoped>\n    .dataframe tbody tr th:only-of-type {\n        vertical-align: middle;\n    }\n\n    .dataframe tbody tr th {\n        vertical-align: top;\n    }\n\n    .dataframe thead th {\n        text-align: right;\n    }\n</style>\n<table border=\"1\" class=\"dataframe\">\n  <thead>\n    <tr style=\"text-align: right;\">\n      <th></th>\n      <th>t1</th>\n      <th>t2</th>\n      <th>t3</th>\n      <th>t4</th>\n      <th>t5</th>\n      <th>t6</th>\n      <th>t7</th>\n      <th>t8</th>\n      <th>t9</th>\n    </tr>\n  </thead>\n  <tbody>\n    <tr>\n      <th>0</th>\n      <td>c1</td>\n      <td>c2</td>\n      <td>c33</td>\n      <td>c4</td>\n      <td>c5</td>\n      <td>c6</td>\n      <td>c7</td>\n      <td>c8</td>\n      <td>c9</td>\n    </tr>\n    <tr>\n      <th>10</th>\n      <td>c11</td>\n      <td>c12</td>\n      <td>c13</td>\n      <td>c14</td>\n      <td>c15</td>\n      <td>c16</td>\n      <td>c17</td>\n      <td>c18</td>\n      <td>c19</td>\n    </tr>\n    <tr>\n      <th>11</th>\n      <td>c12</td>\n      <td>c13</td>\n      <td>c14</td>\n      <td>c15</td>\n      <td>c16</td>\n      <td>c17</td>\n      <td>c18</td>\n      <td>c19</td>\n      <td>c20</td>\n    </tr>\n    <tr>\n      <th>12</th>\n      <td>c13</td>\n      <td>c14</td>\n      <td>c15</td>\n      <td>c16</td>\n      <td>c17</td>\n      <td>c18</td>\n      <td>c19</td>\n      <td>c20</td>\n      <td>c21</td>\n    </tr>\n    <tr>\n      <th>13</th>\n      <td>c14</td>\n      <td>c15</td>\n      <td>c16</td>\n      <td>c17</td>\n      <td>c18</td>\n      <td>c19</td>\n      <td>c20</td>\n      <td>c21</td>\n      <td>c22</td>\n    </tr>\n    <tr>\n      <th>0</th>\n      <td>c1</td>\n      <td>c2</td>\n      <td>c3</td>\n      <td>c4</td>\n      <td>c5</td>\n      <td>c6</td>\n      <td>c7</td>\n      <td>c8</td>\n      <td>c9</td>\n    </tr>\n  </tbody>\n</table>\n</div>"
     },
     "execution_count": 39,
     "metadata": {},
     "output_type": "execute_result"
    }
   ],
   "source": [
    "files.drop_duplicates(keep=False,inplace=True)\n",
    "files"
   ],
   "metadata": {
    "collapsed": false,
    "pycharm": {
     "name": "#%%\n"
    }
   }
  }
 ],
 "metadata": {
  "kernelspec": {
   "display_name": "Python 3 (ipykernel)",
   "language": "python",
   "name": "python3"
  },
  "language_info": {
   "codemirror_mode": {
    "name": "ipython",
    "version": 3
   },
   "file_extension": ".py",
   "mimetype": "text/x-python",
   "name": "python",
   "nbconvert_exporter": "python",
   "pygments_lexer": "ipython3",
   "version": "3.7.3"
  }
 },
 "nbformat": 4,
 "nbformat_minor": 1
}